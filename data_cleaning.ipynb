{
 "cells": [
  {
   "cell_type": "code",
   "execution_count": 3,
   "metadata": {},
   "outputs": [],
   "source": [
    "import pandas as pd\n",
    "import vaex\n",
    "from upload_data import *\n",
    "from data_preprocessing import *\n",
    "%reload_ext autoreload\n",
    "%autoreload 2"
   ]
  },
  {
   "cell_type": "code",
   "execution_count": 44,
   "metadata": {},
   "outputs": [],
   "source": [
    "import tqdm\n",
    "\n",
    "def save_clean_data(dirBase, dirSaveBase, country=''):\n",
    "    \"\"\"\n",
    "    Uploads, cleans and saves data to parquet file\n",
    "    \"\"\"\n",
    "    start = '2006-12-31'\n",
    "    end = '2008-12-31'\n",
    "    # partitioning by month from start_date to end_date\n",
    "    months = pd.date_range(start, end, freq='M')\n",
    "    # loop through months\n",
    "    print('Cleaning data monthly from {} to {}'.format(start, end))\n",
    "    for i in tqdm.tqdm(range(len(months)-1)):\n",
    "        start_date = months[i] + pd.Timedelta(days=1)\n",
    "        end_date = months[i+1]\n",
    "        load_all(start_date=start_date, end_date=end_date, \n",
    "                 doSave=True, dirBase=dirBase, dirSaveBase=dirSaveBase, country=country, saveOnly=True)\n",
    "\n",
    "    \n"
   ]
  },
  {
   "cell_type": "markdown",
   "metadata": {},
   "source": [
    "We start by creating an event file for all the data on a given time range with the given events. We start with the first 6 monthes of 2007: 2007-01-01 to 2007-06-30"
   ]
  },
  {
   "cell_type": "code",
   "execution_count": 4,
   "metadata": {},
   "outputs": [],
   "source": [
    "dirBase = 'E:/FinancialData/sp100_2004-8/rough'\n",
    "dirSaveBase = 'E:/FinancialData/sp100_2004-8/clean'\n",
    "country = 'US'\n",
    "tickers = get_all_tickers(dirBase, country, type ='trade')"
   ]
  },
  {
   "cell_type": "markdown",
   "metadata": {},
   "source": [
    "Time to clean bbo and trade raw files from 2007 and 2008: 128 min, around 300s per iteration (parallelized)"
   ]
  },
  {
   "cell_type": "code",
   "execution_count": null,
   "metadata": {},
   "outputs": [],
   "source": [
    "save_clean_data(dirBase = dirBase, dirSaveBase = dirSaveBase + \"/events\", country = country)"
   ]
  },
  {
   "cell_type": "markdown",
   "metadata": {},
   "source": [
    "We now process the data to obtain the VWAP.\n",
    "Time for VWAP for 2007: 55 minutes\n",
    "Time for VWAP for 2008: 79 minutes"
   ]
  },
  {
   "cell_type": "code",
   "execution_count": 49,
   "metadata": {},
   "outputs": [
    {
     "name": "stdout",
     "output_type": "stream",
     "text": [
      "Calculating and saving 1min-vwap for all available clean trade files\n"
     ]
    },
    {
     "name": "stderr",
     "output_type": "stream",
     "text": [
      "  0%|          | 0/24 [00:00<?, ?it/s]C:\\Users\\charl\\AppData\\Local\\Packages\\PythonSoftwareFoundation.Python.3.10_qbz5n2kfra8p0\\LocalCache\\local-packages\\Python310\\site-packages\\vaex\\agg.py:150: RuntimeWarning: invalid value encountered in divide\n",
      "  return self.op(value1, value2)\n",
      "  4%|▍         | 1/24 [03:27<1:19:30, 207.43s/it]C:\\Users\\charl\\AppData\\Local\\Packages\\PythonSoftwareFoundation.Python.3.10_qbz5n2kfra8p0\\LocalCache\\local-packages\\Python310\\site-packages\\vaex\\agg.py:150: RuntimeWarning: invalid value encountered in divide\n",
      "  return self.op(value1, value2)\n",
      "  8%|▊         | 2/24 [06:37<1:12:24, 197.48s/it]C:\\Users\\charl\\AppData\\Local\\Packages\\PythonSoftwareFoundation.Python.3.10_qbz5n2kfra8p0\\LocalCache\\local-packages\\Python310\\site-packages\\vaex\\agg.py:150: RuntimeWarning: invalid value encountered in divide\n",
      "  return self.op(value1, value2)\n",
      " 12%|█▎        | 3/24 [11:00<1:19:28, 227.09s/it]C:\\Users\\charl\\AppData\\Local\\Packages\\PythonSoftwareFoundation.Python.3.10_qbz5n2kfra8p0\\LocalCache\\local-packages\\Python310\\site-packages\\vaex\\agg.py:150: RuntimeWarning: invalid value encountered in divide\n",
      "  return self.op(value1, value2)\n",
      " 17%|█▋        | 4/24 [14:48<1:15:54, 227.72s/it]C:\\Users\\charl\\AppData\\Local\\Packages\\PythonSoftwareFoundation.Python.3.10_qbz5n2kfra8p0\\LocalCache\\local-packages\\Python310\\site-packages\\vaex\\agg.py:150: RuntimeWarning: invalid value encountered in divide\n",
      "  return self.op(value1, value2)\n",
      " 21%|██        | 5/24 [18:48<1:13:25, 231.86s/it]C:\\Users\\charl\\AppData\\Local\\Packages\\PythonSoftwareFoundation.Python.3.10_qbz5n2kfra8p0\\LocalCache\\local-packages\\Python310\\site-packages\\vaex\\agg.py:150: RuntimeWarning: invalid value encountered in divide\n",
      "  return self.op(value1, value2)\n",
      " 25%|██▌       | 6/24 [23:20<1:13:40, 245.59s/it]C:\\Users\\charl\\AppData\\Local\\Packages\\PythonSoftwareFoundation.Python.3.10_qbz5n2kfra8p0\\LocalCache\\local-packages\\Python310\\site-packages\\vaex\\agg.py:150: RuntimeWarning: invalid value encountered in divide\n",
      "  return self.op(value1, value2)\n",
      " 29%|██▉       | 7/24 [28:21<1:14:43, 263.75s/it]C:\\Users\\charl\\AppData\\Local\\Packages\\PythonSoftwareFoundation.Python.3.10_qbz5n2kfra8p0\\LocalCache\\local-packages\\Python310\\site-packages\\vaex\\agg.py:150: RuntimeWarning: invalid value encountered in divide\n",
      "  return self.op(value1, value2)\n",
      " 33%|███▎      | 8/24 [36:23<1:28:52, 333.26s/it]C:\\Users\\charl\\AppData\\Local\\Packages\\PythonSoftwareFoundation.Python.3.10_qbz5n2kfra8p0\\LocalCache\\local-packages\\Python310\\site-packages\\vaex\\agg.py:150: RuntimeWarning: invalid value encountered in divide\n",
      "  return self.op(value1, value2)\n",
      " 38%|███▊      | 9/24 [40:33<1:16:48, 307.24s/it]C:\\Users\\charl\\AppData\\Local\\Packages\\PythonSoftwareFoundation.Python.3.10_qbz5n2kfra8p0\\LocalCache\\local-packages\\Python310\\site-packages\\vaex\\agg.py:150: RuntimeWarning: invalid value encountered in divide\n",
      "  return self.op(value1, value2)\n",
      " 42%|████▏     | 10/24 [45:25<1:10:34, 302.45s/it]C:\\Users\\charl\\AppData\\Local\\Packages\\PythonSoftwareFoundation.Python.3.10_qbz5n2kfra8p0\\LocalCache\\local-packages\\Python310\\site-packages\\vaex\\agg.py:150: RuntimeWarning: invalid value encountered in divide\n",
      "  return self.op(value1, value2)\n",
      " 46%|████▌     | 11/24 [51:12<1:08:28, 316.03s/it]C:\\Users\\charl\\AppData\\Local\\Packages\\PythonSoftwareFoundation.Python.3.10_qbz5n2kfra8p0\\LocalCache\\local-packages\\Python310\\site-packages\\vaex\\agg.py:150: RuntimeWarning: invalid value encountered in divide\n",
      "  return self.op(value1, value2)\n",
      " 50%|█████     | 12/24 [55:25<59:22, 296.91s/it]  "
     ]
    }
   ],
   "source": [
    "save_vwap_trade()"
   ]
  },
  {
   "cell_type": "code",
   "execution_count": 3,
   "metadata": {},
   "outputs": [
    {
     "name": "stdout",
     "output_type": "stream",
     "text": [
      "Calculating and saving 1min-vwap for all available clean trade files\n"
     ]
    },
    {
     "name": "stderr",
     "output_type": "stream",
     "text": [
      "  0%|          | 0/12 [00:00<?, ?it/s]C:\\Users\\charl\\AppData\\Local\\Packages\\PythonSoftwareFoundation.Python.3.10_qbz5n2kfra8p0\\LocalCache\\local-packages\\Python310\\site-packages\\vaex\\agg.py:150: RuntimeWarning: invalid value encountered in divide\n",
      "  return self.op(value1, value2)\n",
      "  8%|▊         | 1/12 [09:40<1:46:30, 580.93s/it]C:\\Users\\charl\\AppData\\Local\\Packages\\PythonSoftwareFoundation.Python.3.10_qbz5n2kfra8p0\\LocalCache\\local-packages\\Python310\\site-packages\\vaex\\agg.py:150: RuntimeWarning: invalid value encountered in divide\n",
      "  return self.op(value1, value2)\n",
      " 17%|█▋        | 2/12 [15:38<1:14:54, 449.48s/it]C:\\Users\\charl\\AppData\\Local\\Packages\\PythonSoftwareFoundation.Python.3.10_qbz5n2kfra8p0\\LocalCache\\local-packages\\Python310\\site-packages\\vaex\\agg.py:150: RuntimeWarning: invalid value encountered in divide\n",
      "  return self.op(value1, value2)\n",
      " 25%|██▌       | 3/12 [22:21<1:04:14, 428.29s/it]C:\\Users\\charl\\AppData\\Local\\Packages\\PythonSoftwareFoundation.Python.3.10_qbz5n2kfra8p0\\LocalCache\\local-packages\\Python310\\site-packages\\vaex\\agg.py:150: RuntimeWarning: invalid value encountered in divide\n",
      "  return self.op(value1, value2)\n",
      " 33%|███▎      | 4/12 [27:37<51:12, 384.11s/it]  C:\\Users\\charl\\AppData\\Local\\Packages\\PythonSoftwareFoundation.Python.3.10_qbz5n2kfra8p0\\LocalCache\\local-packages\\Python310\\site-packages\\vaex\\agg.py:150: RuntimeWarning: invalid value encountered in divide\n",
      "  return self.op(value1, value2)\n",
      " 42%|████▏     | 5/12 [32:04<39:52, 341.75s/it]C:\\Users\\charl\\AppData\\Local\\Packages\\PythonSoftwareFoundation.Python.3.10_qbz5n2kfra8p0\\LocalCache\\local-packages\\Python310\\site-packages\\vaex\\agg.py:150: RuntimeWarning: invalid value encountered in divide\n",
      "  return self.op(value1, value2)\n",
      " 50%|█████     | 6/12 [38:07<34:53, 348.85s/it]C:\\Users\\charl\\AppData\\Local\\Packages\\PythonSoftwareFoundation.Python.3.10_qbz5n2kfra8p0\\LocalCache\\local-packages\\Python310\\site-packages\\vaex\\agg.py:150: RuntimeWarning: invalid value encountered in divide\n",
      "  return self.op(value1, value2)\n",
      " 58%|█████▊    | 7/12 [44:49<30:31, 366.40s/it]C:\\Users\\charl\\AppData\\Local\\Packages\\PythonSoftwareFoundation.Python.3.10_qbz5n2kfra8p0\\LocalCache\\local-packages\\Python310\\site-packages\\vaex\\agg.py:150: RuntimeWarning: invalid value encountered in divide\n",
      "  return self.op(value1, value2)\n",
      " 67%|██████▋   | 8/12 [49:11<22:12, 333.12s/it]C:\\Users\\charl\\AppData\\Local\\Packages\\PythonSoftwareFoundation.Python.3.10_qbz5n2kfra8p0\\LocalCache\\local-packages\\Python310\\site-packages\\vaex\\agg.py:150: RuntimeWarning: invalid value encountered in divide\n",
      "  return self.op(value1, value2)\n",
      " 75%|███████▌  | 9/12 [55:24<17:16, 345.45s/it]C:\\Users\\charl\\AppData\\Local\\Packages\\PythonSoftwareFoundation.Python.3.10_qbz5n2kfra8p0\\LocalCache\\local-packages\\Python310\\site-packages\\vaex\\agg.py:150: RuntimeWarning: invalid value encountered in divide\n",
      "  return self.op(value1, value2)\n",
      " 83%|████████▎ | 10/12 [1:04:44<13:43, 411.93s/it]C:\\Users\\charl\\AppData\\Local\\Packages\\PythonSoftwareFoundation.Python.3.10_qbz5n2kfra8p0\\LocalCache\\local-packages\\Python310\\site-packages\\vaex\\agg.py:150: RuntimeWarning: invalid value encountered in divide\n",
      "  return self.op(value1, value2)\n",
      " 92%|█████████▏| 11/12 [1:12:29<07:08, 428.15s/it]C:\\Users\\charl\\AppData\\Local\\Packages\\PythonSoftwareFoundation.Python.3.10_qbz5n2kfra8p0\\LocalCache\\local-packages\\Python310\\site-packages\\vaex\\agg.py:150: RuntimeWarning: invalid value encountered in divide\n",
      "  return self.op(value1, value2)\n",
      "100%|██████████| 12/12 [1:19:10<00:00, 395.84s/it]\n"
     ]
    }
   ],
   "source": [
    "#VWAP for 2008 data\n",
    "save_vwap_trade(dirBase = \"E:/FinancialData/sp100_2004-8/clean/events/US/2008\")"
   ]
  },
  {
   "cell_type": "markdown",
   "metadata": {},
   "source": [
    "Cleaning data for bbo files"
   ]
  },
  {
   "cell_type": "code",
   "execution_count": 23,
   "metadata": {},
   "outputs": [
    {
     "name": "stdout",
     "output_type": "stream",
     "text": [
      "Calculating and saving 1min-vwap for all available clean bbo files\n"
     ]
    },
    {
     "name": "stderr",
     "output_type": "stream",
     "text": [
      "  0%|          | 0/24 [00:00<?, ?it/s]C:\\Users\\charl\\AppData\\Local\\Packages\\PythonSoftwareFoundation.Python.3.10_qbz5n2kfra8p0\\LocalCache\\local-packages\\Python310\\site-packages\\vaex\\agg.py:150: RuntimeWarning: invalid value encountered in divide\n",
      "  return self.op(value1, value2)\n",
      "  4%|▍         | 1/24 [14:50<5:41:23, 890.58s/it]C:\\Users\\charl\\AppData\\Local\\Packages\\PythonSoftwareFoundation.Python.3.10_qbz5n2kfra8p0\\LocalCache\\local-packages\\Python310\\site-packages\\vaex\\agg.py:150: RuntimeWarning: invalid value encountered in divide\n",
      "  return self.op(value1, value2)\n",
      "  8%|▊         | 2/24 [27:40<5:00:26, 819.40s/it]C:\\Users\\charl\\AppData\\Local\\Packages\\PythonSoftwareFoundation.Python.3.10_qbz5n2kfra8p0\\LocalCache\\local-packages\\Python310\\site-packages\\vaex\\agg.py:150: RuntimeWarning: invalid value encountered in divide\n",
      "  return self.op(value1, value2)\n",
      " 12%|█▎        | 3/24 [45:41<5:28:36, 938.87s/it]C:\\Users\\charl\\AppData\\Local\\Packages\\PythonSoftwareFoundation.Python.3.10_qbz5n2kfra8p0\\LocalCache\\local-packages\\Python310\\site-packages\\vaex\\agg.py:150: RuntimeWarning: invalid value encountered in divide\n",
      "  return self.op(value1, value2)\n",
      " 17%|█▋        | 4/24 [1:00:04<5:03:03, 909.20s/it]C:\\Users\\charl\\AppData\\Local\\Packages\\PythonSoftwareFoundation.Python.3.10_qbz5n2kfra8p0\\LocalCache\\local-packages\\Python310\\site-packages\\vaex\\agg.py:150: RuntimeWarning: invalid value encountered in divide\n",
      "  return self.op(value1, value2)\n",
      " 21%|██        | 5/24 [1:17:53<5:06:05, 966.61s/it]C:\\Users\\charl\\AppData\\Local\\Packages\\PythonSoftwareFoundation.Python.3.10_qbz5n2kfra8p0\\LocalCache\\local-packages\\Python310\\site-packages\\vaex\\agg.py:150: RuntimeWarning: invalid value encountered in divide\n",
      "  return self.op(value1, value2)\n",
      " 25%|██▌       | 6/24 [1:37:18<5:10:15, 1034.22s/it]C:\\Users\\charl\\AppData\\Local\\Packages\\PythonSoftwareFoundation.Python.3.10_qbz5n2kfra8p0\\LocalCache\\local-packages\\Python310\\site-packages\\vaex\\agg.py:150: RuntimeWarning: invalid value encountered in divide\n",
      "  return self.op(value1, value2)\n",
      " 29%|██▉       | 7/24 [1:59:12<5:18:57, 1125.73s/it]C:\\Users\\charl\\AppData\\Local\\Packages\\PythonSoftwareFoundation.Python.3.10_qbz5n2kfra8p0\\LocalCache\\local-packages\\Python310\\site-packages\\vaex\\agg.py:150: RuntimeWarning: invalid value encountered in divide\n",
      "  return self.op(value1, value2)\n",
      " 33%|███▎      | 8/24 [2:26:18<5:42:36, 1284.76s/it]C:\\Users\\charl\\AppData\\Local\\Packages\\PythonSoftwareFoundation.Python.3.10_qbz5n2kfra8p0\\LocalCache\\local-packages\\Python310\\site-packages\\vaex\\agg.py:150: RuntimeWarning: invalid value encountered in divide\n",
      "  return self.op(value1, value2)\n",
      " 38%|███▊      | 9/24 [2:42:38<4:57:21, 1189.44s/it]C:\\Users\\charl\\AppData\\Local\\Packages\\PythonSoftwareFoundation.Python.3.10_qbz5n2kfra8p0\\LocalCache\\local-packages\\Python310\\site-packages\\vaex\\agg.py:150: RuntimeWarning: invalid value encountered in divide\n",
      "  return self.op(value1, value2)\n",
      " 42%|████▏     | 10/24 [3:02:49<4:39:07, 1196.23s/it]C:\\Users\\charl\\AppData\\Local\\Packages\\PythonSoftwareFoundation.Python.3.10_qbz5n2kfra8p0\\LocalCache\\local-packages\\Python310\\site-packages\\vaex\\agg.py:150: RuntimeWarning: invalid value encountered in divide\n",
      "  return self.op(value1, value2)\n",
      " 46%|████▌     | 11/24 [3:27:39<4:38:41, 1286.27s/it]C:\\Users\\charl\\AppData\\Local\\Packages\\PythonSoftwareFoundation.Python.3.10_qbz5n2kfra8p0\\LocalCache\\local-packages\\Python310\\site-packages\\vaex\\agg.py:150: RuntimeWarning: invalid value encountered in divide\n",
      "  return self.op(value1, value2)\n",
      " 50%|█████     | 12/24 [3:46:16<4:06:56, 1234.71s/it]C:\\Users\\charl\\AppData\\Local\\Packages\\PythonSoftwareFoundation.Python.3.10_qbz5n2kfra8p0\\LocalCache\\local-packages\\Python310\\site-packages\\vaex\\agg.py:150: RuntimeWarning: invalid value encountered in divide\n",
      "  return self.op(value1, value2)\n",
      " 54%|█████▍    | 13/24 [4:20:33<4:32:00, 1483.69s/it]C:\\Users\\charl\\AppData\\Local\\Packages\\PythonSoftwareFoundation.Python.3.10_qbz5n2kfra8p0\\LocalCache\\local-packages\\Python310\\site-packages\\vaex\\agg.py:150: RuntimeWarning: invalid value encountered in divide\n",
      "  return self.op(value1, value2)\n",
      " 58%|█████▊    | 14/24 [4:47:32<4:14:07, 1524.75s/it]C:\\Users\\charl\\AppData\\Local\\Packages\\PythonSoftwareFoundation.Python.3.10_qbz5n2kfra8p0\\LocalCache\\local-packages\\Python310\\site-packages\\vaex\\agg.py:150: RuntimeWarning: invalid value encountered in divide\n",
      "  return self.op(value1, value2)\n",
      " 62%|██████▎   | 15/24 [5:18:48<4:04:35, 1630.61s/it]C:\\Users\\charl\\AppData\\Local\\Packages\\PythonSoftwareFoundation.Python.3.10_qbz5n2kfra8p0\\LocalCache\\local-packages\\Python310\\site-packages\\vaex\\agg.py:150: RuntimeWarning: invalid value encountered in divide\n",
      "  return self.op(value1, value2)\n",
      " 67%|██████▋   | 16/24 [5:42:52<3:29:55, 1574.46s/it]C:\\Users\\charl\\AppData\\Local\\Packages\\PythonSoftwareFoundation.Python.3.10_qbz5n2kfra8p0\\LocalCache\\local-packages\\Python310\\site-packages\\vaex\\agg.py:150: RuntimeWarning: invalid value encountered in divide\n",
      "  return self.op(value1, value2)\n",
      " 71%|███████   | 17/24 [6:03:14<2:51:18, 1468.31s/it]C:\\Users\\charl\\AppData\\Local\\Packages\\PythonSoftwareFoundation.Python.3.10_qbz5n2kfra8p0\\LocalCache\\local-packages\\Python310\\site-packages\\vaex\\agg.py:150: RuntimeWarning: invalid value encountered in divide\n",
      "  return self.op(value1, value2)\n",
      " 75%|███████▌  | 18/24 [6:25:19<2:22:31, 1425.30s/it]C:\\Users\\charl\\AppData\\Local\\Packages\\PythonSoftwareFoundation.Python.3.10_qbz5n2kfra8p0\\LocalCache\\local-packages\\Python310\\site-packages\\vaex\\agg.py:150: RuntimeWarning: invalid value encountered in divide\n",
      "  return self.op(value1, value2)\n",
      " 79%|███████▉  | 19/24 [6:47:16<1:56:04, 1392.82s/it]C:\\Users\\charl\\AppData\\Local\\Packages\\PythonSoftwareFoundation.Python.3.10_qbz5n2kfra8p0\\LocalCache\\local-packages\\Python310\\site-packages\\vaex\\agg.py:150: RuntimeWarning: invalid value encountered in divide\n",
      "  return self.op(value1, value2)\n",
      " 83%|████████▎ | 20/24 [7:01:53<1:22:31, 1237.78s/it]C:\\Users\\charl\\AppData\\Local\\Packages\\PythonSoftwareFoundation.Python.3.10_qbz5n2kfra8p0\\LocalCache\\local-packages\\Python310\\site-packages\\vaex\\agg.py:150: RuntimeWarning: invalid value encountered in divide\n",
      "  return self.op(value1, value2)\n",
      " 88%|████████▊ | 21/24 [7:23:57<1:03:11, 1263.72s/it]C:\\Users\\charl\\AppData\\Local\\Packages\\PythonSoftwareFoundation.Python.3.10_qbz5n2kfra8p0\\LocalCache\\local-packages\\Python310\\site-packages\\vaex\\agg.py:150: RuntimeWarning: invalid value encountered in divide\n",
      "  return self.op(value1, value2)\n",
      " 92%|█████████▏| 22/24 [8:00:17<51:17, 1538.72s/it]  C:\\Users\\charl\\AppData\\Local\\Packages\\PythonSoftwareFoundation.Python.3.10_qbz5n2kfra8p0\\LocalCache\\local-packages\\Python310\\site-packages\\vaex\\agg.py:150: RuntimeWarning: invalid value encountered in divide\n",
      "  return self.op(value1, value2)\n",
      " 96%|█████████▌| 23/24 [8:26:53<25:55, 1555.87s/it]C:\\Users\\charl\\AppData\\Local\\Packages\\PythonSoftwareFoundation.Python.3.10_qbz5n2kfra8p0\\LocalCache\\local-packages\\Python310\\site-packages\\vaex\\agg.py:150: RuntimeWarning: invalid value encountered in divide\n",
      "  return self.op(value1, value2)\n",
      "100%|██████████| 24/24 [8:50:57<00:00, 1327.38s/it]\n"
     ]
    }
   ],
   "source": [
    "save_vwa_bbo(dirBase = \"E:/FinancialData/sp100_2004-8/clean/events/US\", dirSaveBase = \"E:/FinancialData/sp100_2004-8/clean/vwap/bbo\", \n",
    "                    tick = '1min')"
   ]
  },
  {
   "cell_type": "code",
   "execution_count": 22,
   "metadata": {},
   "outputs": [
    {
     "data": {
      "text/html": [
       "<div>\n",
       "<style scoped>\n",
       "    .dataframe tbody tr th:only-of-type {\n",
       "        vertical-align: middle;\n",
       "    }\n",
       "\n",
       "    .dataframe tbody tr th {\n",
       "        vertical-align: top;\n",
       "    }\n",
       "\n",
       "    .dataframe thead th {\n",
       "        text-align: right;\n",
       "    }\n",
       "</style>\n",
       "<table border=\"1\" class=\"dataframe\">\n",
       "  <thead>\n",
       "    <tr style=\"text-align: right;\">\n",
       "      <th></th>\n",
       "      <th>minute</th>\n",
       "      <th>bid_vwa</th>\n",
       "      <th>ask_vwa</th>\n",
       "    </tr>\n",
       "    <tr>\n",
       "      <th>ticker</th>\n",
       "      <th></th>\n",
       "      <th></th>\n",
       "      <th></th>\n",
       "    </tr>\n",
       "  </thead>\n",
       "  <tbody>\n",
       "    <tr>\n",
       "      <th>AA.N</th>\n",
       "      <td>389</td>\n",
       "      <td>389</td>\n",
       "      <td>389</td>\n",
       "    </tr>\n",
       "    <tr>\n",
       "      <th>ABT.N</th>\n",
       "      <td>390</td>\n",
       "      <td>390</td>\n",
       "      <td>390</td>\n",
       "    </tr>\n",
       "    <tr>\n",
       "      <th>AEP.N</th>\n",
       "      <td>389</td>\n",
       "      <td>389</td>\n",
       "      <td>389</td>\n",
       "    </tr>\n",
       "    <tr>\n",
       "      <th>ALL.N</th>\n",
       "      <td>390</td>\n",
       "      <td>390</td>\n",
       "      <td>390</td>\n",
       "    </tr>\n",
       "    <tr>\n",
       "      <th>AVP.N</th>\n",
       "      <td>390</td>\n",
       "      <td>390</td>\n",
       "      <td>390</td>\n",
       "    </tr>\n",
       "    <tr>\n",
       "      <th>...</th>\n",
       "      <td>...</td>\n",
       "      <td>...</td>\n",
       "      <td>...</td>\n",
       "    </tr>\n",
       "    <tr>\n",
       "      <th>WMB.N</th>\n",
       "      <td>388</td>\n",
       "      <td>388</td>\n",
       "      <td>388</td>\n",
       "    </tr>\n",
       "    <tr>\n",
       "      <th>WMT.N</th>\n",
       "      <td>389</td>\n",
       "      <td>389</td>\n",
       "      <td>389</td>\n",
       "    </tr>\n",
       "    <tr>\n",
       "      <th>WY.N</th>\n",
       "      <td>388</td>\n",
       "      <td>388</td>\n",
       "      <td>388</td>\n",
       "    </tr>\n",
       "    <tr>\n",
       "      <th>XOM.N</th>\n",
       "      <td>380</td>\n",
       "      <td>380</td>\n",
       "      <td>380</td>\n",
       "    </tr>\n",
       "    <tr>\n",
       "      <th>XRX.N</th>\n",
       "      <td>390</td>\n",
       "      <td>390</td>\n",
       "      <td>390</td>\n",
       "    </tr>\n",
       "  </tbody>\n",
       "</table>\n",
       "<p>82 rows × 3 columns</p>\n",
       "</div>"
      ],
      "text/plain": [
       "        minute  bid_vwa  ask_vwa\n",
       "ticker                          \n",
       "AA.N       389      389      389\n",
       "ABT.N      390      390      390\n",
       "AEP.N      389      389      389\n",
       "ALL.N      390      390      390\n",
       "AVP.N      390      390      390\n",
       "...        ...      ...      ...\n",
       "WMB.N      388      388      388\n",
       "WMT.N      389      389      389\n",
       "WY.N       388      388      388\n",
       "XOM.N      380      380      380\n",
       "XRX.N      390      390      390\n",
       "\n",
       "[82 rows x 3 columns]"
      ]
     },
     "execution_count": 22,
     "metadata": {},
     "output_type": "execute_result"
    }
   ],
   "source": [
    "mydf = pd.read_parquet(\"E:/FinancialData/sp100_2004-8/clean/vwap/bbo/2007-01-03-to-2007-01-03-vwap-bbo-1m.parquet\")\n",
    "mydf.groupby('ticker').count().sort_values('ticker')"
   ]
  },
  {
   "cell_type": "markdown",
   "metadata": {},
   "source": [
    "We now save the data for the given timestamp in a unique parquet file "
   ]
  },
  {
   "cell_type": "code",
   "execution_count": 6,
   "metadata": {},
   "outputs": [
    {
     "name": "stdout",
     "output_type": "stream",
     "text": [
      "No data in the given period for ticker ORCL.N\n",
      "No data in the given period for ticker PM.N\n",
      "No data in the given period for ticker V.N\n",
      "load_TRTH_bbo could not load E:/FinancialData/sp100_2004-8/rough/US/bbo/APA.N/2007-01-03-APA.N-bbo.parquet\n",
      "No data in the given period for ticker APA.N\n",
      "No data in the given period for ticker MSFT.O\n"
     ]
    },
    {
     "data": {
      "text/plain": [
       "True"
      ]
     },
     "execution_count": 6,
     "metadata": {},
     "output_type": "execute_result"
    }
   ],
   "source": [
    "start_date = '2007-01-03'\n",
    "end_date = '2007-01-03'\n",
    "load_all(start_date = pd.to_datetime(start_date), end_date=pd.to_datetime(end_date), doSave = True, dirBase = dirBase, dirSaveBase = dirSaveBase, country = country, tickers = tickers, saveOnly = True)"
   ]
  },
  {
   "cell_type": "code",
   "execution_count": 10,
   "metadata": {},
   "outputs": [
    {
     "data": {
      "text/html": [
       "<table>\n",
       "<thead>\n",
       "<tr><th>#                                      </th><th>trade_price      </th><th>trade_volume  </th><th>bid-price  </th><th>bid-volume  </th><th>ask-price  </th><th>ask-volume  </th><th>ticker  </th><th>xltime                       </th></tr>\n",
       "</thead>\n",
       "<tbody>\n",
       "<tr><td><i style='opacity: 0.6'>0</i>          </td><td>--               </td><td>--            </td><td>32.7       </td><td>59.0        </td><td>32.72      </td><td>51.0        </td><td>AA.N    </td><td>2007-03-01 14:31:41.199000064</td></tr>\n",
       "<tr><td><i style='opacity: 0.6'>1</i>          </td><td>--               </td><td>--            </td><td>32.7       </td><td>59.0        </td><td>32.72      </td><td>57.0        </td><td>AA.N    </td><td>2007-03-01 14:31:41.208000512</td></tr>\n",
       "<tr><td><i style='opacity: 0.6'>2</i>          </td><td>32.71666666666667</td><td>143000.0      </td><td>--         </td><td>--          </td><td>--         </td><td>--          </td><td>AA.N    </td><td>2007-03-01 14:31:41.553000192</td></tr>\n",
       "<tr><td><i style='opacity: 0.6'>3</i>          </td><td>--               </td><td>--            </td><td>32.7       </td><td>50.0        </td><td>32.71      </td><td>10.0        </td><td>AA.N    </td><td>2007-03-01 14:31:41.643000576</td></tr>\n",
       "<tr><td><i style='opacity: 0.6'>4</i>          </td><td>--               </td><td>--            </td><td>32.7       </td><td>50.0        </td><td>32.71      </td><td>4.0         </td><td>AA.N    </td><td>2007-03-01 14:31:42.066000384</td></tr>\n",
       "<tr><td>...                                    </td><td>...              </td><td>...           </td><td>...        </td><td>...         </td><td>...        </td><td>...         </td><td>...     </td><td>...                          </td></tr>\n",
       "<tr><td><i style='opacity: 0.6'>128,995,824</i></td><td>--               </td><td>--            </td><td>18.5       </td><td>464.0       </td><td>18.51      </td><td>431.0       </td><td>XRX.N   </td><td>2007-04-30 19:59:57.983000064</td></tr>\n",
       "<tr><td><i style='opacity: 0.6'>128,995,825</i></td><td>--               </td><td>--            </td><td>18.5       </td><td>464.0       </td><td>18.51      </td><td>427.0       </td><td>XRX.N   </td><td>2007-04-30 19:59:58.523000320</td></tr>\n",
       "<tr><td><i style='opacity: 0.6'>128,995,826</i></td><td>--               </td><td>--            </td><td>18.5       </td><td>464.0       </td><td>18.51      </td><td>429.0       </td><td>XRX.N   </td><td>2007-04-30 19:59:58.968000256</td></tr>\n",
       "<tr><td><i style='opacity: 0.6'>128,995,827</i></td><td>--               </td><td>--            </td><td>18.5       </td><td>464.0       </td><td>18.51      </td><td>427.0       </td><td>XRX.N   </td><td>2007-04-30 19:59:59.473999616</td></tr>\n",
       "<tr><td><i style='opacity: 0.6'>128,995,828</i></td><td>--               </td><td>--            </td><td>18.5       </td><td>464.0       </td><td>18.51      </td><td>429.0       </td><td>XRX.N   </td><td>2007-04-30 19:59:59.993999872</td></tr>\n",
       "</tbody>\n",
       "</table>"
      ],
      "text/plain": [
       "#            trade_price        trade_volume    bid-price    bid-volume    ask-price    ask-volume    ticker    xltime\n",
       "0            --                 --              32.7         59.0          32.72        51.0          AA.N      2007-03-01 14:31:41.199000064\n",
       "1            --                 --              32.7         59.0          32.72        57.0          AA.N      2007-03-01 14:31:41.208000512\n",
       "2            32.71666666666667  143000.0        --           --            --           --            AA.N      2007-03-01 14:31:41.553000192\n",
       "3            --                 --              32.7         50.0          32.71        10.0          AA.N      2007-03-01 14:31:41.643000576\n",
       "4            --                 --              32.7         50.0          32.71        4.0           AA.N      2007-03-01 14:31:42.066000384\n",
       "...          ...                ...             ...          ...           ...          ...           ...       ...\n",
       "128,995,824  --                 --              18.5         464.0         18.51        431.0         XRX.N     2007-04-30 19:59:57.983000064\n",
       "128,995,825  --                 --              18.5         464.0         18.51        427.0         XRX.N     2007-04-30 19:59:58.523000320\n",
       "128,995,826  --                 --              18.5         464.0         18.51        429.0         XRX.N     2007-04-30 19:59:58.968000256\n",
       "128,995,827  --                 --              18.5         464.0         18.51        427.0         XRX.N     2007-04-30 19:59:59.473999616\n",
       "128,995,828  --                 --              18.5         464.0         18.51        429.0         XRX.N     2007-04-30 19:59:59.993999872"
      ]
     },
     "execution_count": 10,
     "metadata": {},
     "output_type": "execute_result"
    }
   ],
   "source": [
    "alldata = vaex.open(r'E:\\FinancialData\\sp100_2004-8\\clean\\US\\2007-03-01-to-2007-04-30-events.parquet')\n",
    "alldata"
   ]
  },
  {
   "cell_type": "code",
   "execution_count": 11,
   "metadata": {},
   "outputs": [
    {
     "data": {
      "text/html": [
       "<table>\n",
       "<thead>\n",
       "<tr><th>#                                     </th><th>trade_price      </th><th>trade_volume  </th><th>bid-price  </th><th>bid-volume  </th><th>ask-price  </th><th>ask-volume  </th><th>ticker  </th><th>xltime                       </th></tr>\n",
       "</thead>\n",
       "<tbody>\n",
       "<tr><td><i style='opacity: 0.6'>0</i>         </td><td>32.71666666666667</td><td>143000.0      </td><td>--         </td><td>--          </td><td>--         </td><td>--          </td><td>AA.N    </td><td>2007-03-01 14:31:41.553000192</td></tr>\n",
       "<tr><td><i style='opacity: 0.6'>1</i>         </td><td>32.71            </td><td>600.0         </td><td>--         </td><td>--          </td><td>--         </td><td>--          </td><td>AA.N    </td><td>2007-03-01 14:31:42.408000256</td></tr>\n",
       "<tr><td><i style='opacity: 0.6'>2</i>         </td><td>32.7             </td><td>2000.0        </td><td>--         </td><td>--          </td><td>--         </td><td>--          </td><td>AA.N    </td><td>2007-03-01 14:31:42.985000448</td></tr>\n",
       "<tr><td><i style='opacity: 0.6'>3</i>         </td><td>32.71            </td><td>200.0         </td><td>--         </td><td>--          </td><td>--         </td><td>--          </td><td>AA.N    </td><td>2007-03-01 14:31:43.208000256</td></tr>\n",
       "<tr><td><i style='opacity: 0.6'>4</i>         </td><td>32.7             </td><td>2500.0        </td><td>--         </td><td>--          </td><td>--         </td><td>--          </td><td>AA.N    </td><td>2007-03-01 14:31:44.465000448</td></tr>\n",
       "<tr><td>...                                   </td><td>...              </td><td>...           </td><td>...        </td><td>...         </td><td>...        </td><td>...         </td><td>...     </td><td>...                          </td></tr>\n",
       "<tr><td><i style='opacity: 0.6'>22,970,895</i></td><td>18.5             </td><td>400.0         </td><td>--         </td><td>--          </td><td>--         </td><td>--          </td><td>XRX.N   </td><td>2007-04-30 19:59:48.844000   </td></tr>\n",
       "<tr><td><i style='opacity: 0.6'>22,970,896</i></td><td>18.5             </td><td>13900.0       </td><td>--         </td><td>--          </td><td>--         </td><td>--          </td><td>XRX.N   </td><td>2007-04-30 19:59:49.757000448</td></tr>\n",
       "<tr><td><i style='opacity: 0.6'>22,970,897</i></td><td>18.5             </td><td>200.0         </td><td>--         </td><td>--          </td><td>--         </td><td>--          </td><td>XRX.N   </td><td>2007-04-30 19:59:49.764999936</td></tr>\n",
       "<tr><td><i style='opacity: 0.6'>22,970,898</i></td><td>18.5             </td><td>200.0         </td><td>--         </td><td>--          </td><td>--         </td><td>--          </td><td>XRX.N   </td><td>2007-04-30 19:59:52.844000256</td></tr>\n",
       "<tr><td><i style='opacity: 0.6'>22,970,899</i></td><td>18.5             </td><td>2800.0        </td><td>--         </td><td>--          </td><td>--         </td><td>--          </td><td>XRX.N   </td><td>2007-04-30 19:59:57.289000448</td></tr>\n",
       "</tbody>\n",
       "</table>"
      ],
      "text/plain": [
       "#           trade_price        trade_volume    bid-price    bid-volume    ask-price    ask-volume    ticker    xltime\n",
       "0           32.71666666666667  143000.0        --           --            --           --            AA.N      2007-03-01 14:31:41.553000192\n",
       "1           32.71              600.0           --           --            --           --            AA.N      2007-03-01 14:31:42.408000256\n",
       "2           32.7               2000.0          --           --            --           --            AA.N      2007-03-01 14:31:42.985000448\n",
       "3           32.71              200.0           --           --            --           --            AA.N      2007-03-01 14:31:43.208000256\n",
       "4           32.7               2500.0          --           --            --           --            AA.N      2007-03-01 14:31:44.465000448\n",
       "...         ...                ...             ...          ...           ...          ...           ...       ...\n",
       "22,970,895  18.5               400.0           --           --            --           --            XRX.N     2007-04-30 19:59:48.844000\n",
       "22,970,896  18.5               13900.0         --           --            --           --            XRX.N     2007-04-30 19:59:49.757000448\n",
       "22,970,897  18.5               200.0           --           --            --           --            XRX.N     2007-04-30 19:59:49.764999936\n",
       "22,970,898  18.5               200.0           --           --            --           --            XRX.N     2007-04-30 19:59:52.844000256\n",
       "22,970,899  18.5               2800.0          --           --            --           --            XRX.N     2007-04-30 19:59:57.289000448"
      ]
     },
     "execution_count": 11,
     "metadata": {},
     "output_type": "execute_result"
    }
   ],
   "source": [
    "df_trade = alldata[~alldata['trade_price'].isna()] # we keep only the \"trade\" events. Unefficient to load all the data but we will might need the rest later\n",
    "df_trade\n"
   ]
  },
  {
   "cell_type": "code",
   "execution_count": 12,
   "metadata": {},
   "outputs": [
    {
     "name": "stderr",
     "output_type": "stream",
     "text": [
      "C:\\Users\\charl\\AppData\\Local\\Packages\\PythonSoftwareFoundation.Python.3.10_qbz5n2kfra8p0\\LocalCache\\local-packages\\Python310\\site-packages\\vaex\\agg.py:150: RuntimeWarning: invalid value encountered in divide\n",
      "  return self.op(value1, value2)\n"
     ]
    },
    {
     "name": "stdout",
     "output_type": "stream",
     "text": [
      "#          minute            ticker    vwap\n",
      "0          2007-03-01 15:17  HPQ.N     39.077103546099295\n",
      "1          2007-03-01 15:17  DOW.N     43.334190751445085\n",
      "2          2007-03-01 15:17  WAG.N     44.607867647058825\n",
      "3          2007-03-01 15:17  BAC.N     50.39908080808081\n",
      "4          2007-03-01 15:17  WY.N      85.50647727272727\n",
      "...        ...               ...       ...\n",
      "1,331,294  2007-04-24 13:30  TGT.N     60.00023283858998\n",
      "1,331,295  2007-04-24 13:30  MO.N      69.33107981220657\n",
      "1,331,296  2007-04-24 13:30  C.N       53.24487251243781\n",
      "1,331,297  2007-04-24 13:30  HAL.N     31.396205285512035\n",
      "1,331,298  2007-04-24 13:30  MRK.N     51.500340447154464\n"
     ]
    }
   ],
   "source": [
    "# Ensure the 'xltime' column is a datetime type\n",
    "df_trade['xltime'] = df_trade['xltime'].astype('datetime64')\n",
    "\n",
    "# Create a minute-level timestamp column\n",
    "df_trade['minute'] = df_trade['xltime'].dt.strftime('%Y-%m-%d %H:%M')\n",
    "\n",
    "# Group by the 'minute' and 'ticker', and calculate VWAP\n",
    "vwap_df = df_trade.groupby(by=['minute', 'ticker'], agg={\n",
    "    'vwap': vaex.agg.sum(df_trade['trade_price'] * df_trade['trade_volume']) / vaex.agg.sum(df_trade['trade_volume'])\n",
    "})\n",
    "\n",
    "print(vwap_df)\n"
   ]
  },
  {
   "cell_type": "markdown",
   "metadata": {},
   "source": [
    "Creating a pivot table using vaex is very time demanding but the computations of the vwap using vaex highly increased the speed! So we use vaex, then we save it to parquet and we will use pandas again to get the pivot table."
   ]
  },
  {
   "cell_type": "code",
   "execution_count": 13,
   "metadata": {},
   "outputs": [],
   "source": [
    "# Saving to parquet\n",
    "file_path = dirSaveBase+\"/\"+country +\"/\"+start_date + \"-to-\" + end_date +\"-vwap.parquet\"\n",
    "vwap_df.export_parquet(file_path,use_deprecated_int96_timestamps=True)"
   ]
  },
  {
   "cell_type": "code",
   "execution_count": null,
   "metadata": {},
   "outputs": [],
   "source": []
  },
  {
   "cell_type": "markdown",
   "metadata": {},
   "source": [
    "Cleaning the data from 2010\n",
    "We have data for 401 tickers\n",
    "We only take the Open price as the other do not make sense"
   ]
  },
  {
   "cell_type": "code",
   "execution_count": 67,
   "metadata": {},
   "outputs": [
    {
     "data": {
      "text/html": [
       "<div>\n",
       "<style scoped>\n",
       "    .dataframe tbody tr th:only-of-type {\n",
       "        vertical-align: middle;\n",
       "    }\n",
       "\n",
       "    .dataframe tbody tr th {\n",
       "        vertical-align: top;\n",
       "    }\n",
       "\n",
       "    .dataframe thead th {\n",
       "        text-align: right;\n",
       "    }\n",
       "</style>\n",
       "<table border=\"1\" class=\"dataframe\">\n",
       "  <thead>\n",
       "    <tr style=\"text-align: right;\">\n",
       "      <th></th>\n",
       "      <th>index</th>\n",
       "      <th>X.Open</th>\n",
       "      <th>X.High</th>\n",
       "      <th>X.Low</th>\n",
       "      <th>X.Close</th>\n",
       "    </tr>\n",
       "  </thead>\n",
       "  <tbody>\n",
       "    <tr>\n",
       "      <th>0</th>\n",
       "      <td>2010-01-12 09:31:00-05:00</td>\n",
       "      <td>16.72</td>\n",
       "      <td>1467.0</td>\n",
       "      <td>16.69</td>\n",
       "      <td>461.0</td>\n",
       "    </tr>\n",
       "    <tr>\n",
       "      <th>1</th>\n",
       "      <td>2010-01-12 09:32:00-05:00</td>\n",
       "      <td>16.69</td>\n",
       "      <td>1191.0</td>\n",
       "      <td>16.67</td>\n",
       "      <td>7.0</td>\n",
       "    </tr>\n",
       "    <tr>\n",
       "      <th>2</th>\n",
       "      <td>2010-01-12 09:33:00-05:00</td>\n",
       "      <td>16.72</td>\n",
       "      <td>417.0</td>\n",
       "      <td>16.71</td>\n",
       "      <td>131.0</td>\n",
       "    </tr>\n",
       "    <tr>\n",
       "      <th>3</th>\n",
       "      <td>2010-01-12 09:34:00-05:00</td>\n",
       "      <td>16.72</td>\n",
       "      <td>481.0</td>\n",
       "      <td>16.72</td>\n",
       "      <td>167.0</td>\n",
       "    </tr>\n",
       "    <tr>\n",
       "      <th>4</th>\n",
       "      <td>2010-01-12 09:35:00-05:00</td>\n",
       "      <td>16.71</td>\n",
       "      <td>661.0</td>\n",
       "      <td>16.66</td>\n",
       "      <td>266.0</td>\n",
       "    </tr>\n",
       "  </tbody>\n",
       "</table>\n",
       "</div>"
      ],
      "text/plain": [
       "                      index  X.Open  X.High  X.Low  X.Close\n",
       "0 2010-01-12 09:31:00-05:00   16.72  1467.0  16.69    461.0\n",
       "1 2010-01-12 09:32:00-05:00   16.69  1191.0  16.67      7.0\n",
       "2 2010-01-12 09:33:00-05:00   16.72   417.0  16.71    131.0\n",
       "3 2010-01-12 09:34:00-05:00   16.72   481.0  16.72    167.0\n",
       "4 2010-01-12 09:35:00-05:00   16.71   661.0  16.66    266.0"
      ]
     },
     "execution_count": 67,
     "metadata": {},
     "output_type": "execute_result"
    }
   ],
   "source": [
    "df = pd.read_parquet(\"data/raw/SP500-2010/60seconds/BAC/2010-01-12-BAC-bbo_60seconds.parquet\")\n",
    "df.head()"
   ]
  },
  {
   "cell_type": "code",
   "execution_count": null,
   "metadata": {},
   "outputs": [],
   "source": []
  },
  {
   "cell_type": "markdown",
   "metadata": {},
   "source": [
    "Cleaning the 2010 data and merging it into a single df.\n",
    "\n",
    "The first chunck code uses only pandas and requires more than 20 minutes only for 8% of the process. We therefore added vaex to perform the computations where possible (it was not possible everywhere)\n",
    "\n",
    "The second chunck using vaex required only 26 minutes!"
   ]
  },
  {
   "cell_type": "code",
   "execution_count": null,
   "metadata": {},
   "outputs": [],
   "source": [
    "all_tickers = get_all_tickers(dirBase = \"data/raw/SP500-2010/60seconds\", country = \"\", type = '')\n",
    "df_2010 = pd.DataFrame()\n",
    "\n",
    "for ticker in tqdm.tqdm(all_tickers):\n",
    "    all_files = glob.glob(\"data/raw/SP500-2010/60seconds/\"+ticker+\"/*.parquet\")\n",
    "    for file in all_files:\n",
    "        df = pd.read_parquet(file)\n",
    "        df.rename(columns={\"index\": \"time\"}, inplace=True)\n",
    "        df.drop(columns=['X.High', 'X.Low', 'X.Close'], inplace=True)\n",
    "        df['time'] = df['time'].dt.strftime('%Y-%m-%d %H:%M')\n",
    "        df['ticker'] = ticker\n",
    "        df_2010 = pd.concat([df_2010, df], axis=0)\n",
    "\n",
    "df_2010"
   ]
  },
  {
   "cell_type": "code",
   "execution_count": 82,
   "metadata": {},
   "outputs": [
    {
     "name": "stderr",
     "output_type": "stream",
     "text": [
      "100%|██████████| 401/401 [26:10<00:00,  3.92s/it]\n"
     ]
    }
   ],
   "source": [
    "import pandas as pd\n",
    "import pytz\n",
    "import glob\n",
    "import tqdm\n",
    "import vaex\n",
    "all_tickers = get_all_tickers(dirBase = \"data/raw/SP500-2010/60seconds\", country = \"\", type = '')\n",
    "df_2010 = None\n",
    "\n",
    "for ticker in tqdm.tqdm(all_tickers):\n",
    "    all_files = glob.glob(\"data/raw/SP500-2010/60seconds/\" + ticker + \"/*.parquet\")\n",
    "    df_ticker = None\n",
    "    for file in all_files:\n",
    "        # Load data with Pandas\n",
    "        df_pandas = pd.read_parquet(file)\n",
    "\n",
    "        # Convert timezone\n",
    "        df_pandas['index'] = df_pandas['index'].dt.tz_convert(None)\n",
    "\n",
    "        # Convert Pandas DataFrame to Vaex DataFrame\n",
    "        df = vaex.from_pandas(df_pandas, copy_index=False)\n",
    "        # Process the Vaex DataFrame as needed\n",
    "        df = df.drop(['X.High', 'X.Low', 'X.Close'])\n",
    "        df.rename('X.Open', ticker)\n",
    "\n",
    "        if df_ticker is None:\n",
    "            df_ticker = df\n",
    "        else:\n",
    "            df_ticker = vaex.concat([df_ticker, df])\n",
    "\n",
    "    if df_2010 is None:\n",
    "        df_2010 = df_ticker\n",
    "    else:\n",
    "        df_2010 = df_2010.join(df_ticker, how='left', on='index')"
   ]
  },
  {
   "cell_type": "code",
   "execution_count": 83,
   "metadata": {},
   "outputs": [],
   "source": [
    "#save to parquet\n",
    "df_2010.export_parquet(\"data/clean/final/SP500-2010.parquet\", use_deprecated_int96_timestamps=True)"
   ]
  },
  {
   "cell_type": "markdown",
   "metadata": {},
   "source": [
    "Getting last of bbo trade per minute for the 2007-2008 data using data_preprocessing.py\n",
    "\n",
    "We then upload all the files and merge them into one unique pivot table"
   ]
  },
  {
   "cell_type": "code",
   "execution_count": 2,
   "metadata": {},
   "outputs": [
    {
     "name": "stdout",
     "output_type": "stream",
     "text": [
      "Calculating and saving 1min-vwap for all available clean bbo files\n"
     ]
    },
    {
     "name": "stderr",
     "output_type": "stream",
     "text": [
      "100%|██████████| 24/24 [7:51:59<00:00, 1179.96s/it]  \n"
     ]
    }
   ],
   "source": [
    "save_last_bbo()"
   ]
  },
  {
   "cell_type": "markdown",
   "metadata": {},
   "source": []
  },
  {
   "cell_type": "code",
   "execution_count": 6,
   "metadata": {},
   "outputs": [
    {
     "data": {
      "text/html": [
       "<div>\n",
       "<style scoped>\n",
       "    .dataframe tbody tr th:only-of-type {\n",
       "        vertical-align: middle;\n",
       "    }\n",
       "\n",
       "    .dataframe tbody tr th {\n",
       "        vertical-align: top;\n",
       "    }\n",
       "\n",
       "    .dataframe thead th {\n",
       "        text-align: right;\n",
       "    }\n",
       "</style>\n",
       "<table border=\"1\" class=\"dataframe\">\n",
       "  <thead>\n",
       "    <tr style=\"text-align: right;\">\n",
       "      <th></th>\n",
       "      <th>minute</th>\n",
       "      <th>ticker</th>\n",
       "      <th>bid_last</th>\n",
       "      <th>ask_last</th>\n",
       "    </tr>\n",
       "  </thead>\n",
       "  <tbody>\n",
       "    <tr>\n",
       "      <th>0</th>\n",
       "      <td>2007-01-08 16:59</td>\n",
       "      <td>HPQ.N</td>\n",
       "      <td>42.14</td>\n",
       "      <td>42.15</td>\n",
       "    </tr>\n",
       "    <tr>\n",
       "      <th>1</th>\n",
       "      <td>2007-01-08 16:59</td>\n",
       "      <td>DOW.N</td>\n",
       "      <td>39.56</td>\n",
       "      <td>39.57</td>\n",
       "    </tr>\n",
       "    <tr>\n",
       "      <th>2</th>\n",
       "      <td>2007-01-08 16:59</td>\n",
       "      <td>WAG.N</td>\n",
       "      <td>45.16</td>\n",
       "      <td>45.17</td>\n",
       "    </tr>\n",
       "    <tr>\n",
       "      <th>3</th>\n",
       "      <td>2007-01-08 16:59</td>\n",
       "      <td>BAC.N</td>\n",
       "      <td>53.21</td>\n",
       "      <td>53.22</td>\n",
       "    </tr>\n",
       "    <tr>\n",
       "      <th>4</th>\n",
       "      <td>2007-01-08 16:59</td>\n",
       "      <td>WY.N</td>\n",
       "      <td>71.61</td>\n",
       "      <td>71.64</td>\n",
       "    </tr>\n",
       "    <tr>\n",
       "      <th>...</th>\n",
       "      <td>...</td>\n",
       "      <td>...</td>\n",
       "      <td>...</td>\n",
       "      <td>...</td>\n",
       "    </tr>\n",
       "    <tr>\n",
       "      <th>692979</th>\n",
       "      <td>2008-12-31 20:34</td>\n",
       "      <td>TGT.N</td>\n",
       "      <td>34.64</td>\n",
       "      <td>34.65</td>\n",
       "    </tr>\n",
       "    <tr>\n",
       "      <th>692980</th>\n",
       "      <td>2008-12-31 20:34</td>\n",
       "      <td>MO.N</td>\n",
       "      <td>15.13</td>\n",
       "      <td>15.14</td>\n",
       "    </tr>\n",
       "    <tr>\n",
       "      <th>692981</th>\n",
       "      <td>2008-12-31 20:34</td>\n",
       "      <td>C.N</td>\n",
       "      <td>6.98</td>\n",
       "      <td>7.00</td>\n",
       "    </tr>\n",
       "    <tr>\n",
       "      <th>692982</th>\n",
       "      <td>2008-12-31 20:34</td>\n",
       "      <td>HAL.N</td>\n",
       "      <td>18.38</td>\n",
       "      <td>18.39</td>\n",
       "    </tr>\n",
       "    <tr>\n",
       "      <th>692983</th>\n",
       "      <td>2008-12-31 20:34</td>\n",
       "      <td>MRK.N</td>\n",
       "      <td>30.45</td>\n",
       "      <td>30.46</td>\n",
       "    </tr>\n",
       "  </tbody>\n",
       "</table>\n",
       "<p>16011157 rows × 4 columns</p>\n",
       "</div>"
      ],
      "text/plain": [
       "                  minute ticker  bid_last  ask_last\n",
       "0       2007-01-08 16:59  HPQ.N     42.14     42.15\n",
       "1       2007-01-08 16:59  DOW.N     39.56     39.57\n",
       "2       2007-01-08 16:59  WAG.N     45.16     45.17\n",
       "3       2007-01-08 16:59  BAC.N     53.21     53.22\n",
       "4       2007-01-08 16:59   WY.N     71.61     71.64\n",
       "...                  ...    ...       ...       ...\n",
       "692979  2008-12-31 20:34  TGT.N     34.64     34.65\n",
       "692980  2008-12-31 20:34   MO.N     15.13     15.14\n",
       "692981  2008-12-31 20:34    C.N      6.98      7.00\n",
       "692982  2008-12-31 20:34  HAL.N     18.38     18.39\n",
       "692983  2008-12-31 20:34  MRK.N     30.45     30.46\n",
       "\n",
       "[16011157 rows x 4 columns]"
      ]
     },
     "execution_count": 6,
     "metadata": {},
     "output_type": "execute_result"
    }
   ],
   "source": [
    "df_bbo_last = upload_clean_data(r'E:\\FinancialData\\sp100_2004-8\\clean\\lastbbo')\n",
    "df_bbo_last"
   ]
  },
  {
   "cell_type": "code",
   "execution_count": 7,
   "metadata": {},
   "outputs": [],
   "source": [
    "#save to parquet\n",
    "df_bbo_last.to_parquet(\"data/clean/final/2007-2008_bbolast.parquet\", use_deprecated_int96_timestamps=True)"
   ]
  },
  {
   "cell_type": "code",
   "execution_count": null,
   "metadata": {},
   "outputs": [],
   "source": []
  }
 ],
 "metadata": {
  "kernelspec": {
   "display_name": "Python 3",
   "language": "python",
   "name": "python3"
  },
  "language_info": {
   "codemirror_mode": {
    "name": "ipython",
    "version": 3
   },
   "file_extension": ".py",
   "mimetype": "text/x-python",
   "name": "python",
   "nbconvert_exporter": "python",
   "pygments_lexer": "ipython3",
   "version": "3.10.11"
  }
 },
 "nbformat": 4,
 "nbformat_minor": 2
}
