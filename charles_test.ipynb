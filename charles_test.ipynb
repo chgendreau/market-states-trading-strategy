{
 "cells": [
  {
   "cell_type": "code",
   "execution_count": 155,
   "metadata": {},
   "outputs": [],
   "source": [
    "from upload_data import *\n",
    "from utils import *\n",
    "import pandas as pd\n",
    "import time\n",
    "import dask\n",
    "%reload_ext autoreload\n",
    "%autoreload 2"
   ]
  },
  {
   "cell_type": "code",
   "execution_count": 145,
   "metadata": {},
   "outputs": [
    {
     "name": "stdout",
     "output_type": "stream",
     "text": [
      "CPU times: total: 391 ms\n",
      "Wall time: 20.4 s\n"
     ]
    }
   ],
   "source": [
    "%%time\n",
    "#No parallelization\n",
    "df = load_all_dates(ticker = 'AA.N', start_date = pd.to_datetime('2008-12-26'), end_date=pd.to_datetime('2008-12-31'))"
   ]
  },
  {
   "cell_type": "code",
   "execution_count": 142,
   "metadata": {},
   "outputs": [
    {
     "name": "stdout",
     "output_type": "stream",
     "text": [
      "CPU times: total: 438 ms\n",
      "Wall time: 5.37 s\n"
     ]
    }
   ],
   "source": [
    "%%time\n",
    "#Parallelization\n",
    "df = load_all_dates(ticker = 'AA.N', start_date = pd.to_datetime('2008-12-26'), end_date=pd.to_datetime('2008-12-31'))"
   ]
  },
  {
   "cell_type": "code",
   "execution_count": 154,
   "metadata": {},
   "outputs": [
    {
     "name": "stdout",
     "output_type": "stream",
     "text": [
      "CPU times: total: 32.5 s\n",
      "Wall time: 44.6 s\n"
     ]
    }
   ],
   "source": [
    "%%time\n",
    "df_ = load_all(start_date = pd.to_datetime('2008-06-01'), end_date=pd.to_datetime('2008-12-31'))\n",
    "\n"
   ]
  },
  {
   "cell_type": "code",
   "execution_count": 156,
   "metadata": {},
   "outputs": [
    {
     "name": "stdout",
     "output_type": "stream",
     "text": [
      "CPU times: total: 34.3 s\n",
      "Wall time: 33.1 s\n"
     ]
    }
   ],
   "source": [
    "%%time\n",
    "df_2 = load_all(start_date = pd.to_datetime('2008-06-01'), end_date=pd.to_datetime('2008-12-31'))"
   ]
  },
  {
   "cell_type": "code",
   "execution_count": 104,
   "metadata": {},
   "outputs": [
    {
     "data": {
      "image/png": "[encoded data removed]",
      "text/plain": [
       "<IPython.core.display.Image object>"
      ]
     },
     "execution_count": 104,
     "metadata": {},
     "output_type": "execute_result"
    }
   ],
   "source": [
    "alldatapromices.visualize()"
   ]
  },
  {
   "cell_type": "code",
   "execution_count": 80,
   "metadata": {},
   "outputs": [
    {
     "name": "stdout",
     "output_type": "stream",
     "text": [
      "CPU times: total: 6.14 s\n",
      "Wall time: 4.95 s\n"
     ]
    }
   ],
   "source": [
    "%%time\n",
    "all_data = alldatapromices.compute()"
   ]
  },
  {
   "cell_type": "code",
   "execution_count": 91,
   "metadata": {},
   "outputs": [],
   "source": [
    "#ticker=\"SPY.P\"\n",
    "ticker = \"AA.N\"\n",
    "\n",
    "start_date=pd.to_datetime(\"2008-01-01\") #\"2010-01-01\"\n",
    "end_date=pd.to_datetime(\"2008-12-31\") #2010-12-31\"\n"
   ]
  },
  {
   "cell_type": "code",
   "execution_count": 97,
   "metadata": {},
   "outputs": [
    {
     "name": "stdout",
     "output_type": "stream",
     "text": [
      "CPU times: total: 0 ns\n",
      "Wall time: 0 ns\n"
     ]
    }
   ],
   "source": [
    "%time all_data =load_all_dates(ticker = ticker, start_date = start_date, end_date = end_date)"
   ]
  },
  {
   "cell_type": "code",
   "execution_count": 98,
   "metadata": {},
   "outputs": [
    {
     "ename": "TypeError",
     "evalue": "cannot concatenate object of type '<class 'dask.delayed.Delayed'>'; only Series and DataFrame objs are valid",
     "output_type": "error",
     "traceback": [
      "\u001b[1;31m---------------------------------------------------------------------------\u001b[0m",
      "\u001b[1;31mTypeError\u001b[0m                                 Traceback (most recent call last)",
      "File \u001b[1;32m<timed eval>:1\u001b[0m\n",
      "File \u001b[1;32m~\\AppData\\Local\\Packages\\PythonSoftwareFoundation.Python.3.10_qbz5n2kfra8p0\\LocalCache\\local-packages\\Python310\\site-packages\\dask\\base.py:342\u001b[0m, in \u001b[0;36mDaskMethodsMixin.compute\u001b[1;34m(self, **kwargs)\u001b[0m\n\u001b[0;32m    318\u001b[0m \u001b[38;5;28;01mdef\u001b[39;00m \u001b[38;5;21mcompute\u001b[39m(\u001b[38;5;28mself\u001b[39m, \u001b[38;5;241m*\u001b[39m\u001b[38;5;241m*\u001b[39mkwargs):\n\u001b[0;32m    319\u001b[0m \u001b[38;5;250m    \u001b[39m\u001b[38;5;124;03m\"\"\"Compute this dask collection\u001b[39;00m\n\u001b[0;32m    320\u001b[0m \n\u001b[0;32m    321\u001b[0m \u001b[38;5;124;03m    This turns a lazy Dask collection into its in-memory equivalent.\u001b[39;00m\n\u001b[1;32m   (...)\u001b[0m\n\u001b[0;32m    340\u001b[0m \u001b[38;5;124;03m    dask.compute\u001b[39;00m\n\u001b[0;32m    341\u001b[0m \u001b[38;5;124;03m    \"\"\"\u001b[39;00m\n\u001b[1;32m--> 342\u001b[0m     (result,) \u001b[38;5;241m=\u001b[39m compute(\u001b[38;5;28mself\u001b[39m, traverse\u001b[38;5;241m=\u001b[39m\u001b[38;5;28;01mFalse\u001b[39;00m, \u001b[38;5;241m*\u001b[39m\u001b[38;5;241m*\u001b[39mkwargs)\n\u001b[0;32m    343\u001b[0m     \u001b[38;5;28;01mreturn\u001b[39;00m result\n",
      "File \u001b[1;32m~\\AppData\\Local\\Packages\\PythonSoftwareFoundation.Python.3.10_qbz5n2kfra8p0\\LocalCache\\local-packages\\Python310\\site-packages\\dask\\base.py:628\u001b[0m, in \u001b[0;36mcompute\u001b[1;34m(traverse, optimize_graph, scheduler, get, *args, **kwargs)\u001b[0m\n\u001b[0;32m    625\u001b[0m     postcomputes\u001b[38;5;241m.\u001b[39mappend(x\u001b[38;5;241m.\u001b[39m__dask_postcompute__())\n\u001b[0;32m    627\u001b[0m \u001b[38;5;28;01mwith\u001b[39;00m shorten_traceback():\n\u001b[1;32m--> 628\u001b[0m     results \u001b[38;5;241m=\u001b[39m schedule(dsk, keys, \u001b[38;5;241m*\u001b[39m\u001b[38;5;241m*\u001b[39mkwargs)\n\u001b[0;32m    630\u001b[0m \u001b[38;5;28;01mreturn\u001b[39;00m repack([f(r, \u001b[38;5;241m*\u001b[39ma) \u001b[38;5;28;01mfor\u001b[39;00m r, (f, a) \u001b[38;5;129;01min\u001b[39;00m \u001b[38;5;28mzip\u001b[39m(results, postcomputes)])\n",
      "File \u001b[1;32mc:\\Users\\charl\\EPFL\\FinancialBigData\\fin-big-data_project\\upload_data.py:225\u001b[0m, in \u001b[0;36mload_all_dates\u001b[1;34m(ticker, start_date, end_date, country, dirBase, suffix, suffix_save, dirSaveBase, saveOnly, doSave)\u001b[0m\n\u001b[0;32m    223\u001b[0m all_dates = [date for date in all_dates if date >= start_date and date <= end_date]\n\u001b[0;32m    224\u001b[0m allpromises=[load_merge_trade_bbo(ticker, date, country = country, dirBase = dirBase, suffix = suffix, suffix_save = suffix_save, dirSaveBase = dirSaveBase, saveOnly = saveOnly, doSave = doSave) for date in all_dates]\n\u001b[1;32m--> 225\u001b[0m #for date in all_dates:\n\u001b[0;32m    226\u001b[0m     #events = load_merge_trade_bbo(ticker, date, country = country, dirBase = dirBase, suffix = suffix, suffix_save = suffix_save, dirSaveBase = dirSaveBase, saveOnly = saveOnly, doSave = doSave)\n\u001b[0;32m    227\u001b[0m     #all_events = pd.concat([all_events, events], axis = 0)\n\u001b[0;32m    228\u001b[0m all_events = dask.compute(*allpromises)\n\u001b[0;32m    230\u001b[0m return all_events\n",
      "File \u001b[1;32m~\\AppData\\Local\\Packages\\PythonSoftwareFoundation.Python.3.10_qbz5n2kfra8p0\\LocalCache\\local-packages\\Python310\\site-packages\\pandas\\core\\reshape\\concat.py:462\u001b[0m, in \u001b[0;36m_Concatenator.__init__\u001b[1;34m(self, objs, axis, join, keys, levels, names, ignore_index, verify_integrity, copy, sort)\u001b[0m\n\u001b[0;32m    457\u001b[0m     \u001b[38;5;28;01mif\u001b[39;00m \u001b[38;5;129;01mnot\u001b[39;00m \u001b[38;5;28misinstance\u001b[39m(obj, (ABCSeries, ABCDataFrame)):\n\u001b[0;32m    458\u001b[0m         msg \u001b[38;5;241m=\u001b[39m (\n\u001b[0;32m    459\u001b[0m             \u001b[38;5;124mf\u001b[39m\u001b[38;5;124m\"\u001b[39m\u001b[38;5;124mcannot concatenate object of type \u001b[39m\u001b[38;5;124m'\u001b[39m\u001b[38;5;132;01m{\u001b[39;00m\u001b[38;5;28mtype\u001b[39m(obj)\u001b[38;5;132;01m}\u001b[39;00m\u001b[38;5;124m'\u001b[39m\u001b[38;5;124m; \u001b[39m\u001b[38;5;124m\"\u001b[39m\n\u001b[0;32m    460\u001b[0m             \u001b[38;5;124m\"\u001b[39m\u001b[38;5;124monly Series and DataFrame objs are valid\u001b[39m\u001b[38;5;124m\"\u001b[39m\n\u001b[0;32m    461\u001b[0m         )\n\u001b[1;32m--> 462\u001b[0m         \u001b[38;5;28;01mraise\u001b[39;00m \u001b[38;5;167;01mTypeError\u001b[39;00m(msg)\n\u001b[0;32m    464\u001b[0m     ndims\u001b[38;5;241m.\u001b[39madd(obj\u001b[38;5;241m.\u001b[39mndim)\n\u001b[0;32m    466\u001b[0m \u001b[38;5;66;03m# get the sample\u001b[39;00m\n\u001b[0;32m    467\u001b[0m \u001b[38;5;66;03m# want the highest ndim that we have, and must be non-empty\u001b[39;00m\n\u001b[0;32m    468\u001b[0m \u001b[38;5;66;03m# unless all objs are empty\u001b[39;00m\n",
      "\u001b[1;31mTypeError\u001b[0m: cannot concatenate object of type '<class 'dask.delayed.Delayed'>'; only Series and DataFrame objs are valid"
     ]
    }
   ],
   "source": [
    "%%time\n",
    "all_data.compute()"
   ]
  },
  {
   "cell_type": "code",
   "execution_count": 111,
   "metadata": {},
   "outputs": [],
   "source": [
    "import dask\n",
    "import time\n",
    "\n",
    "from joblib import delayed\n",
    "\n",
    "def myadd(a,b):\n",
    "    time.sleep(1)\n",
    "    a = increment(a)\n",
    "    b = increment(b)\n",
    "    return a+b\n",
    "@delayed\n",
    "def increment(a):\n",
    "    time.sleep(1)\n",
    "    return a+1\n",
    "\n"
   ]
  },
  {
   "cell_type": "code",
   "execution_count": 120,
   "metadata": {},
   "outputs": [
    {
     "name": "stdout",
     "output_type": "stream",
     "text": [
      "CPU times: total: 0 ns\n",
      "Wall time: 0 ns\n"
     ]
    }
   ],
   "source": [
    "%%time\n",
    "@dask.delayed\n",
    "def add(a,b):\n",
    "    return a+b\n",
    "\n",
    "a=1\n",
    "b= np.arange(10)\n",
    "\n",
    "c = [dask.delayed(add)(a,b_i) for b_i in b]"
   ]
  },
  {
   "cell_type": "code",
   "execution_count": 122,
   "metadata": {},
   "outputs": [
    {
     "name": "stdout",
     "output_type": "stream",
     "text": [
      "[Delayed('add-71f353f6-c8b4-47d0-8693-8b2a82924fc7'), Delayed('add-7120e4a6-3a6f-4fa2-b247-944fa16eeae0'), Delayed('add-4821a940-a60e-434f-8751-5ef441ffd7ad'), Delayed('add-09977cb6-a651-4b4d-94ac-9d25350ad189'), Delayed('add-2321bb1e-abf8-49bb-a660-19009e1a69d4'), Delayed('add-ed77b6bf-b2ca-4f44-913f-151165a41a6c'), Delayed('add-d3ec68ed-8a16-4473-a605-71c16620bd0c'), Delayed('add-91c47c72-0fed-422a-ab69-667bd66cf453'), Delayed('add-d8cc1081-9089-4b83-8670-1bbdcfcb79b9'), Delayed('add-167e0041-5670-4ead-bb55-9040776f6b4d')]\n",
      "(1, 2, 3, 4, 5, 6, 7, 8, 9, 10)\n"
     ]
    }
   ],
   "source": [
    "#compute all the promises\n",
    "print(c)\n",
    "results = dask.compute(*c)\n",
    "\n",
    "print(results)"
   ]
  },
  {
   "cell_type": "code",
   "execution_count": 114,
   "metadata": {},
   "outputs": [
    {
     "ename": "AttributeError",
     "evalue": "'list' object has no attribute 'compute'",
     "output_type": "error",
     "traceback": [
      "\u001b[1;31m---------------------------------------------------------------------------\u001b[0m",
      "\u001b[1;31mAttributeError\u001b[0m                            Traceback (most recent call last)",
      "File \u001b[1;32m<timed eval>:1\u001b[0m\n",
      "\u001b[1;31mAttributeError\u001b[0m: 'list' object has no attribute 'compute'"
     ]
    }
   ],
   "source": [
    "%%time\n",
    "c.compute()"
   ]
  },
  {
   "cell_type": "code",
   "execution_count": 13,
   "metadata": {},
   "outputs": [
    {
     "data": {
      "image/svg+xml": [
       "<svg xmlns=\"http://www.w3.org/2000/svg\" xmlns:xlink=\"http://www.w3.org/1999/xlink\" width=\"96pt\" height=\"168pt\" viewBox=\"0.00 0.00 96.37 168.37\">\n",
       "<g id=\"graph0\" class=\"graph\" transform=\"scale(1 1) rotate(0) translate(4 164.37)\">\n",
       "<polygon fill=\"white\" stroke=\"none\" points=\"-4,4 -4,-164.37 92.37,-164.37 92.37,4 -4,4\"/>\n",
       "<!-- 178168271501637384 -->\n",
       "<g id=\"node1\" class=\"node\">\n",
       "<title>178168271501637384</title>\n",
       "<ellipse fill=\"none\" stroke=\"black\" cx=\"44.19\" cy=\"-44.19\" rx=\"44.19\" ry=\"44.19\"/>\n",
       "<text text-anchor=\"middle\" x=\"44.19\" y=\"-39.14\" font-family=\"Helvetica,sans-Serif\" font-size=\"14.00\">load_all</text>\n",
       "</g>\n",
       "<!-- &#45;4682109708195856351 -->\n",
       "<g id=\"node2\" class=\"node\">\n",
       "<title>-4682109708195856351</title>\n",
       "<polygon fill=\"none\" stroke=\"black\" points=\"71.19,-160.37 17.19,-160.37 17.19,-124.37 71.19,-124.37 71.19,-160.37\"/>\n",
       "</g>\n",
       "<!-- 178168271501637384&#45;&gt;&#45;4682109708195856351 -->\n",
       "<g id=\"edge1\" class=\"edge\">\n",
       "<title>178168271501637384-&gt;-4682109708195856351</title>\n",
       "<path fill=\"none\" stroke=\"black\" d=\"M44.19,-88.78C44.19,-96.9 44.19,-105.19 44.19,-112.72\"/>\n",
       "<polygon fill=\"black\" stroke=\"black\" points=\"40.69,-112.63 44.19,-122.63 47.69,-112.63 40.69,-112.63\"/>\n",
       "</g>\n",
       "</g>\n",
       "</svg>"
      ],
      "text/plain": [
       "<IPython.core.display.SVG object>"
      ]
     },
     "execution_count": 13,
     "metadata": {},
     "output_type": "execute_result"
    }
   ],
   "source": [
    "c.visualize(filename = 'test.svg')"
   ]
  },
  {
   "cell_type": "code",
   "execution_count": 55,
   "metadata": {},
   "outputs": [
    {
     "name": "stdout",
     "output_type": "stream",
     "text": [
      "[None, None, None, None, None, None, None, None, None, None, None, None, None, None, None, None, None, None, None, None, None, None, None, None, None, None, None, None]\n"
     ]
    }
   ],
   "source": []
  },
  {
   "cell_type": "markdown",
   "metadata": {},
   "source": [
    "Can you read me\n"
   ]
  }
 ],
 "metadata": {
  "kernelspec": {
   "display_name": "Python 3",
   "language": "python",
   "name": "python3"
  },
  "language_info": {
   "codemirror_mode": {
    "name": "ipython",
    "version": 3
   },
   "file_extension": ".py",
   "mimetype": "text/x-python",
   "name": "python",
   "nbconvert_exporter": "python",
   "pygments_lexer": "ipython3",
   "version": "3.10.11"
  }
 },
 "nbformat": 4,
 "nbformat_minor": 2
}
