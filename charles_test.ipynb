{
 "cells": [
  {
   "cell_type": "code",
   "execution_count": 2,
   "metadata": {},
   "outputs": [],
   "source": [
    "from upload_data import *\n",
    "from utils import *\n",
    "import pandas as pd\n",
    "import time\n",
    "import dask\n",
    "%reload_ext autoreload\n",
    "%autoreload 2"
   ]
  },
  {
   "cell_type": "markdown",
   "metadata": {},
   "source": [
    "Parallelization when uploading the files.\n",
    "We parallelize on load_all_dates which loads a single df for given dates. We parallelize for all the tickers (i.e we call in parallel load_all_dates #tickers times). \n",
    "Parallelization is not always optimal as we call \n",
    "`all_events = pd.concat(all_events, axis = 0)` with `all_events` being a list of dataframes stored in the memory of different cores or at least not in the memory of a single core. The advantage of parallelizing load_all_dates is removed by the increase in time taken by pd.concat from all dfs in the same core memory to dfs stored in the computer memory or the memory of different cores. \n",
    "\n",
    "To avoid this issue, we tried to transform them to vaex files and use the concat method of vaex but the transformation from pandas to vaex was to time-demanding.\n",
    "\n",
    "We then tried to use dask data_frames in `load_all_dask` -> not more efficient..."
   ]
  },
  {
   "cell_type": "code",
   "execution_count": 145,
   "metadata": {},
   "outputs": [
    {
     "name": "stdout",
     "output_type": "stream",
     "text": [
      "CPU times: total: 391 ms\n",
      "Wall time: 20.4 s\n"
     ]
    }
   ],
   "source": [
    "%%time\n",
    "#No parallelization\n",
    "df = load_all_dates(ticker = 'AA.N', start_date = pd.to_datetime('2008-12-26'), end_date=pd.to_datetime('2008-12-31'))"
   ]
  },
  {
   "cell_type": "code",
   "execution_count": 142,
   "metadata": {},
   "outputs": [
    {
     "name": "stdout",
     "output_type": "stream",
     "text": [
      "CPU times: total: 438 ms\n",
      "Wall time: 5.37 s\n"
     ]
    }
   ],
   "source": [
    "%%time\n",
    "#Parallelization\n",
    "df = load_all_dates(ticker = 'AA.N', start_date = pd.to_datetime('2008-12-26'), end_date=pd.to_datetime('2008-12-31'))"
   ]
  },
  {
   "cell_type": "code",
   "execution_count": 23,
   "metadata": {},
   "outputs": [
    {
     "name": "stdout",
     "output_type": "stream",
     "text": [
      "Starting computations\n",
      "Time to concat all data:  0.09976005554199219\n",
      "Time to compute all data:  124.95039129257202\n",
      "CPU times: total: 3min 24s\n",
      "Wall time: 3min 2s\n"
     ]
    }
   ],
   "source": [
    "%%time\n",
    "df_ = load_all_dask(start_date = pd.to_datetime('2008-09-15'), end_date=pd.to_datetime('2008-12-31'))\n",
    "\n"
   ]
  },
  {
   "cell_type": "code",
   "execution_count": 12,
   "metadata": {},
   "outputs": [
    {
     "name": "stdout",
     "output_type": "stream",
     "text": [
      "Time to compute all data:  53.78907561302185\n",
      "Time to concat all data:  3.750546455383301\n",
      "CPU times: total: 1min 1s\n",
      "Wall time: 58.7 s\n"
     ]
    }
   ],
   "source": [
    "%%time\n",
    "df_ = load_all(start_date = pd.to_datetime('2008-09-15'), end_date=pd.to_datetime('2008-12-31'))"
   ]
  },
  {
   "cell_type": "code",
   "execution_count": 10,
   "metadata": {},
   "outputs": [
    {
     "name": "stdout",
     "output_type": "stream",
     "text": [
      "Time to compute all data:  67.98057556152344\n",
      "Time to concat all data:  17.238533973693848\n",
      "CPU times: total: 1min 12s\n",
      "Wall time: 1min 26s\n"
     ]
    }
   ],
   "source": [
    "%%time\n",
    "#not in parallel\n",
    "df_2 = load_all(start_date = pd.to_datetime('2008-09-15'), end_date=pd.to_datetime('2008-12-31'))"
   ]
  },
  {
   "cell_type": "code",
   "execution_count": 22,
   "metadata": {},
   "outputs": [],
   "source": [
    "del df_"
   ]
  },
  {
   "cell_type": "code",
   "execution_count": 9,
   "metadata": {},
   "outputs": [],
   "source": [
    "df_2.dropna(inplace=True)"
   ]
  },
  {
   "cell_type": "code",
   "execution_count": 12,
   "metadata": {},
   "outputs": [],
   "source": [
    "import vaex\n",
    "df_vaex = vaex.from_pandas(df_, copy_index=True)\n",
    "df_vaex_2 = vaex.from_pandas(df_2, copy_index=True)"
   ]
  },
  {
   "cell_type": "code",
   "execution_count": 11,
   "metadata": {},
   "outputs": [
    {
     "name": "stdout",
     "output_type": "stream",
     "text": [
      "CPU times: total: 13.1 s\n",
      "Wall time: 38.1 s\n"
     ]
    }
   ],
   "source": [
    "%%time\n",
    "df_final_pandas = pd.concat([df_, df_2], axis=0)"
   ]
  },
  {
   "cell_type": "code",
   "execution_count": 14,
   "metadata": {},
   "outputs": [
    {
     "name": "stdout",
     "output_type": "stream",
     "text": [
      "CPU times: total: 0 ns\n",
      "Wall time: 2.99 ms\n"
     ]
    }
   ],
   "source": [
    "%%time\n",
    "df_final_vaex = vaex.concat([df_vaex, df_vaex_2])"
   ]
  },
  {
   "cell_type": "code",
   "execution_count": 15,
   "metadata": {},
   "outputs": [
    {
     "name": "stdout",
     "output_type": "stream",
     "text": [
      "CPU times: total: 0 ns\n",
      "Wall time: 0 ns\n"
     ]
    },
    {
     "data": {
      "text/html": [
       "<div>\n",
       "<style scoped>\n",
       "    .dataframe tbody tr th:only-of-type {\n",
       "        vertical-align: middle;\n",
       "    }\n",
       "\n",
       "    .dataframe tbody tr th {\n",
       "        vertical-align: top;\n",
       "    }\n",
       "\n",
       "    .dataframe thead th {\n",
       "        text-align: right;\n",
       "    }\n",
       "</style>\n",
       "<table border=\"1\" class=\"dataframe\">\n",
       "  <thead>\n",
       "    <tr style=\"text-align: right;\">\n",
       "      <th></th>\n",
       "      <th>trade_price</th>\n",
       "      <th>trade_volume</th>\n",
       "      <th>bid-price</th>\n",
       "      <th>bid-volume</th>\n",
       "      <th>ask-price</th>\n",
       "      <th>ask-volume</th>\n",
       "      <th>day</th>\n",
       "      <th>time</th>\n",
       "      <th>ticker</th>\n",
       "    </tr>\n",
       "    <tr>\n",
       "      <th>xltime</th>\n",
       "      <th></th>\n",
       "      <th></th>\n",
       "      <th></th>\n",
       "      <th></th>\n",
       "      <th></th>\n",
       "      <th></th>\n",
       "      <th></th>\n",
       "      <th></th>\n",
       "      <th></th>\n",
       "    </tr>\n",
       "  </thead>\n",
       "  <tbody>\n",
       "    <tr>\n",
       "      <th>2008-06-02 09:30:15.224000256-04:00</th>\n",
       "      <td>NaN</td>\n",
       "      <td>NaN</td>\n",
       "      <td>40.25</td>\n",
       "      <td>426.0</td>\n",
       "      <td>40.33</td>\n",
       "      <td>2.0</td>\n",
       "      <td>2008-06-02</td>\n",
       "      <td>09:30:15.224000</td>\n",
       "      <td>AA.N</td>\n",
       "    </tr>\n",
       "    <tr>\n",
       "      <th>2008-06-02 09:30:15.255000576-04:00</th>\n",
       "      <td>40.25</td>\n",
       "      <td>125100.0</td>\n",
       "      <td>NaN</td>\n",
       "      <td>NaN</td>\n",
       "      <td>NaN</td>\n",
       "      <td>NaN</td>\n",
       "      <td>2008-06-02</td>\n",
       "      <td>09:30:15.255000</td>\n",
       "      <td>AA.N</td>\n",
       "    </tr>\n",
       "    <tr>\n",
       "      <th>2008-06-02 09:30:15.404000256-04:00</th>\n",
       "      <td>40.25</td>\n",
       "      <td>1000.0</td>\n",
       "      <td>NaN</td>\n",
       "      <td>NaN</td>\n",
       "      <td>NaN</td>\n",
       "      <td>NaN</td>\n",
       "      <td>2008-06-02</td>\n",
       "      <td>09:30:15.404000</td>\n",
       "      <td>AA.N</td>\n",
       "    </tr>\n",
       "    <tr>\n",
       "      <th>2008-06-02 09:30:15.436000512-04:00</th>\n",
       "      <td>NaN</td>\n",
       "      <td>NaN</td>\n",
       "      <td>40.25</td>\n",
       "      <td>416.0</td>\n",
       "      <td>40.31</td>\n",
       "      <td>9.0</td>\n",
       "      <td>2008-06-02</td>\n",
       "      <td>09:30:15.436000</td>\n",
       "      <td>AA.N</td>\n",
       "    </tr>\n",
       "    <tr>\n",
       "      <th>2008-06-02 09:30:15.459000064-04:00</th>\n",
       "      <td>NaN</td>\n",
       "      <td>NaN</td>\n",
       "      <td>40.25</td>\n",
       "      <td>413.0</td>\n",
       "      <td>40.31</td>\n",
       "      <td>5.0</td>\n",
       "      <td>2008-06-02</td>\n",
       "      <td>09:30:15.459000</td>\n",
       "      <td>AA.N</td>\n",
       "    </tr>\n",
       "    <tr>\n",
       "      <th>...</th>\n",
       "      <td>...</td>\n",
       "      <td>...</td>\n",
       "      <td>...</td>\n",
       "      <td>...</td>\n",
       "      <td>...</td>\n",
       "      <td>...</td>\n",
       "      <td>...</td>\n",
       "      <td>...</td>\n",
       "      <td>...</td>\n",
       "    </tr>\n",
       "    <tr>\n",
       "      <th>2008-12-31 15:59:45.152999424-05:00</th>\n",
       "      <td>18.57</td>\n",
       "      <td>600.0</td>\n",
       "      <td>18.57</td>\n",
       "      <td>423.0</td>\n",
       "      <td>18.59</td>\n",
       "      <td>43.0</td>\n",
       "      <td>2008-12-31</td>\n",
       "      <td>15:59:45.152999</td>\n",
       "      <td>AXP.N</td>\n",
       "    </tr>\n",
       "    <tr>\n",
       "      <th>2008-12-31 15:59:46.168999680-05:00</th>\n",
       "      <td>18.57</td>\n",
       "      <td>400.0</td>\n",
       "      <td>18.57</td>\n",
       "      <td>386.0</td>\n",
       "      <td>18.58</td>\n",
       "      <td>16.0</td>\n",
       "      <td>2008-12-31</td>\n",
       "      <td>15:59:46.168999</td>\n",
       "      <td>AXP.N</td>\n",
       "    </tr>\n",
       "    <tr>\n",
       "      <th>2008-12-31 15:59:50.801000448-05:00</th>\n",
       "      <td>18.57</td>\n",
       "      <td>300.0</td>\n",
       "      <td>18.57</td>\n",
       "      <td>352.0</td>\n",
       "      <td>18.58</td>\n",
       "      <td>6.0</td>\n",
       "      <td>2008-12-31</td>\n",
       "      <td>15:59:50.801000</td>\n",
       "      <td>AXP.N</td>\n",
       "    </tr>\n",
       "    <tr>\n",
       "      <th>2008-12-31 15:59:51.739999744-05:00</th>\n",
       "      <td>18.57</td>\n",
       "      <td>900.0</td>\n",
       "      <td>18.57</td>\n",
       "      <td>316.0</td>\n",
       "      <td>18.58</td>\n",
       "      <td>35.0</td>\n",
       "      <td>2008-12-31</td>\n",
       "      <td>15:59:51.739999</td>\n",
       "      <td>AXP.N</td>\n",
       "    </tr>\n",
       "    <tr>\n",
       "      <th>2008-12-31 15:59:54.709000192-05:00</th>\n",
       "      <td>18.57</td>\n",
       "      <td>100.0</td>\n",
       "      <td>18.57</td>\n",
       "      <td>295.0</td>\n",
       "      <td>18.58</td>\n",
       "      <td>68.0</td>\n",
       "      <td>2008-12-31</td>\n",
       "      <td>15:59:54.709000</td>\n",
       "      <td>AXP.N</td>\n",
       "    </tr>\n",
       "  </tbody>\n",
       "</table>\n",
       "<p>30710974 rows × 9 columns</p>\n",
       "</div>"
      ],
      "text/plain": [
       "                                     trade_price  trade_volume  bid-price   \n",
       "xltime                                                                      \n",
       "2008-06-02 09:30:15.224000256-04:00          NaN           NaN      40.25  \\\n",
       "2008-06-02 09:30:15.255000576-04:00        40.25      125100.0        NaN   \n",
       "2008-06-02 09:30:15.404000256-04:00        40.25        1000.0        NaN   \n",
       "2008-06-02 09:30:15.436000512-04:00          NaN           NaN      40.25   \n",
       "2008-06-02 09:30:15.459000064-04:00          NaN           NaN      40.25   \n",
       "...                                          ...           ...        ...   \n",
       "2008-12-31 15:59:45.152999424-05:00        18.57         600.0      18.57   \n",
       "2008-12-31 15:59:46.168999680-05:00        18.57         400.0      18.57   \n",
       "2008-12-31 15:59:50.801000448-05:00        18.57         300.0      18.57   \n",
       "2008-12-31 15:59:51.739999744-05:00        18.57         900.0      18.57   \n",
       "2008-12-31 15:59:54.709000192-05:00        18.57         100.0      18.57   \n",
       "\n",
       "                                     bid-volume  ask-price  ask-volume   \n",
       "xltime                                                                   \n",
       "2008-06-02 09:30:15.224000256-04:00       426.0      40.33         2.0  \\\n",
       "2008-06-02 09:30:15.255000576-04:00         NaN        NaN         NaN   \n",
       "2008-06-02 09:30:15.404000256-04:00         NaN        NaN         NaN   \n",
       "2008-06-02 09:30:15.436000512-04:00       416.0      40.31         9.0   \n",
       "2008-06-02 09:30:15.459000064-04:00       413.0      40.31         5.0   \n",
       "...                                         ...        ...         ...   \n",
       "2008-12-31 15:59:45.152999424-05:00       423.0      18.59        43.0   \n",
       "2008-12-31 15:59:46.168999680-05:00       386.0      18.58        16.0   \n",
       "2008-12-31 15:59:50.801000448-05:00       352.0      18.58         6.0   \n",
       "2008-12-31 15:59:51.739999744-05:00       316.0      18.58        35.0   \n",
       "2008-12-31 15:59:54.709000192-05:00       295.0      18.58        68.0   \n",
       "\n",
       "                                            day             time ticker  \n",
       "xltime                                                                   \n",
       "2008-06-02 09:30:15.224000256-04:00  2008-06-02  09:30:15.224000   AA.N  \n",
       "2008-06-02 09:30:15.255000576-04:00  2008-06-02  09:30:15.255000   AA.N  \n",
       "2008-06-02 09:30:15.404000256-04:00  2008-06-02  09:30:15.404000   AA.N  \n",
       "2008-06-02 09:30:15.436000512-04:00  2008-06-02  09:30:15.436000   AA.N  \n",
       "2008-06-02 09:30:15.459000064-04:00  2008-06-02  09:30:15.459000   AA.N  \n",
       "...                                         ...              ...    ...  \n",
       "2008-12-31 15:59:45.152999424-05:00  2008-12-31  15:59:45.152999  AXP.N  \n",
       "2008-12-31 15:59:46.168999680-05:00  2008-12-31  15:59:46.168999  AXP.N  \n",
       "2008-12-31 15:59:50.801000448-05:00  2008-12-31  15:59:50.801000  AXP.N  \n",
       "2008-12-31 15:59:51.739999744-05:00  2008-12-31  15:59:51.739999  AXP.N  \n",
       "2008-12-31 15:59:54.709000192-05:00  2008-12-31  15:59:54.709000  AXP.N  \n",
       "\n",
       "[30710974 rows x 9 columns]"
      ]
     },
     "execution_count": 15,
     "metadata": {},
     "output_type": "execute_result"
    }
   ],
   "source": [
    "%%time\n",
    "df_final_pandas\n"
   ]
  },
  {
   "cell_type": "code",
   "execution_count": null,
   "metadata": {},
   "outputs": [],
   "source": []
  },
  {
   "cell_type": "code",
   "execution_count": null,
   "metadata": {},
   "outputs": [],
   "source": []
  },
  {
   "cell_type": "code",
   "execution_count": null,
   "metadata": {},
   "outputs": [],
   "source": []
  },
  {
   "cell_type": "code",
   "execution_count": 17,
   "metadata": {},
   "outputs": [
    {
     "name": "stdout",
     "output_type": "stream",
     "text": [
      "CPU times: total: 40.5 s\n",
      "Wall time: 2min 25s\n"
     ]
    }
   ],
   "source": [
    "%%time\n",
    "df_final_vaex_to_pandas = df_final_vaex.to_pandas_df()"
   ]
  },
  {
   "cell_type": "code",
   "execution_count": 98,
   "metadata": {},
   "outputs": [
    {
     "ename": "TypeError",
     "evalue": "cannot concatenate object of type '<class 'dask.delayed.Delayed'>'; only Series and DataFrame objs are valid",
     "output_type": "error",
     "traceback": [
      "\u001b[1;31m---------------------------------------------------------------------------\u001b[0m",
      "\u001b[1;31mTypeError\u001b[0m                                 Traceback (most recent call last)",
      "File \u001b[1;32m<timed eval>:1\u001b[0m\n",
      "File \u001b[1;32m~\\AppData\\Local\\Packages\\PythonSoftwareFoundation.Python.3.10_qbz5n2kfra8p0\\LocalCache\\local-packages\\Python310\\site-packages\\dask\\base.py:342\u001b[0m, in \u001b[0;36mDaskMethodsMixin.compute\u001b[1;34m(self, **kwargs)\u001b[0m\n\u001b[0;32m    318\u001b[0m \u001b[38;5;28;01mdef\u001b[39;00m \u001b[38;5;21mcompute\u001b[39m(\u001b[38;5;28mself\u001b[39m, \u001b[38;5;241m*\u001b[39m\u001b[38;5;241m*\u001b[39mkwargs):\n\u001b[0;32m    319\u001b[0m \u001b[38;5;250m    \u001b[39m\u001b[38;5;124;03m\"\"\"Compute this dask collection\u001b[39;00m\n\u001b[0;32m    320\u001b[0m \n\u001b[0;32m    321\u001b[0m \u001b[38;5;124;03m    This turns a lazy Dask collection into its in-memory equivalent.\u001b[39;00m\n\u001b[1;32m   (...)\u001b[0m\n\u001b[0;32m    340\u001b[0m \u001b[38;5;124;03m    dask.compute\u001b[39;00m\n\u001b[0;32m    341\u001b[0m \u001b[38;5;124;03m    \"\"\"\u001b[39;00m\n\u001b[1;32m--> 342\u001b[0m     (result,) \u001b[38;5;241m=\u001b[39m compute(\u001b[38;5;28mself\u001b[39m, traverse\u001b[38;5;241m=\u001b[39m\u001b[38;5;28;01mFalse\u001b[39;00m, \u001b[38;5;241m*\u001b[39m\u001b[38;5;241m*\u001b[39mkwargs)\n\u001b[0;32m    343\u001b[0m     \u001b[38;5;28;01mreturn\u001b[39;00m result\n",
      "File \u001b[1;32m~\\AppData\\Local\\Packages\\PythonSoftwareFoundation.Python.3.10_qbz5n2kfra8p0\\LocalCache\\local-packages\\Python310\\site-packages\\dask\\base.py:628\u001b[0m, in \u001b[0;36mcompute\u001b[1;34m(traverse, optimize_graph, scheduler, get, *args, **kwargs)\u001b[0m\n\u001b[0;32m    625\u001b[0m     postcomputes\u001b[38;5;241m.\u001b[39mappend(x\u001b[38;5;241m.\u001b[39m__dask_postcompute__())\n\u001b[0;32m    627\u001b[0m \u001b[38;5;28;01mwith\u001b[39;00m shorten_traceback():\n\u001b[1;32m--> 628\u001b[0m     results \u001b[38;5;241m=\u001b[39m schedule(dsk, keys, \u001b[38;5;241m*\u001b[39m\u001b[38;5;241m*\u001b[39mkwargs)\n\u001b[0;32m    630\u001b[0m \u001b[38;5;28;01mreturn\u001b[39;00m repack([f(r, \u001b[38;5;241m*\u001b[39ma) \u001b[38;5;28;01mfor\u001b[39;00m r, (f, a) \u001b[38;5;129;01min\u001b[39;00m \u001b[38;5;28mzip\u001b[39m(results, postcomputes)])\n",
      "File \u001b[1;32mc:\\Users\\charl\\EPFL\\FinancialBigData\\fin-big-data_project\\upload_data.py:225\u001b[0m, in \u001b[0;36mload_all_dates\u001b[1;34m(ticker, start_date, end_date, country, dirBase, suffix, suffix_save, dirSaveBase, saveOnly, doSave)\u001b[0m\n\u001b[0;32m    223\u001b[0m all_dates = [date for date in all_dates if date >= start_date and date <= end_date]\n\u001b[0;32m    224\u001b[0m allpromises=[load_merge_trade_bbo(ticker, date, country = country, dirBase = dirBase, suffix = suffix, suffix_save = suffix_save, dirSaveBase = dirSaveBase, saveOnly = saveOnly, doSave = doSave) for date in all_dates]\n\u001b[1;32m--> 225\u001b[0m #for date in all_dates:\n\u001b[0;32m    226\u001b[0m     #events = load_merge_trade_bbo(ticker, date, country = country, dirBase = dirBase, suffix = suffix, suffix_save = suffix_save, dirSaveBase = dirSaveBase, saveOnly = saveOnly, doSave = doSave)\n\u001b[0;32m    227\u001b[0m     #all_events = pd.concat([all_events, events], axis = 0)\n\u001b[0;32m    228\u001b[0m all_events = dask.compute(*allpromises)\n\u001b[0;32m    230\u001b[0m return all_events\n",
      "File \u001b[1;32m~\\AppData\\Local\\Packages\\PythonSoftwareFoundation.Python.3.10_qbz5n2kfra8p0\\LocalCache\\local-packages\\Python310\\site-packages\\pandas\\core\\reshape\\concat.py:462\u001b[0m, in \u001b[0;36m_Concatenator.__init__\u001b[1;34m(self, objs, axis, join, keys, levels, names, ignore_index, verify_integrity, copy, sort)\u001b[0m\n\u001b[0;32m    457\u001b[0m     \u001b[38;5;28;01mif\u001b[39;00m \u001b[38;5;129;01mnot\u001b[39;00m \u001b[38;5;28misinstance\u001b[39m(obj, (ABCSeries, ABCDataFrame)):\n\u001b[0;32m    458\u001b[0m         msg \u001b[38;5;241m=\u001b[39m (\n\u001b[0;32m    459\u001b[0m             \u001b[38;5;124mf\u001b[39m\u001b[38;5;124m\"\u001b[39m\u001b[38;5;124mcannot concatenate object of type \u001b[39m\u001b[38;5;124m'\u001b[39m\u001b[38;5;132;01m{\u001b[39;00m\u001b[38;5;28mtype\u001b[39m(obj)\u001b[38;5;132;01m}\u001b[39;00m\u001b[38;5;124m'\u001b[39m\u001b[38;5;124m; \u001b[39m\u001b[38;5;124m\"\u001b[39m\n\u001b[0;32m    460\u001b[0m             \u001b[38;5;124m\"\u001b[39m\u001b[38;5;124monly Series and DataFrame objs are valid\u001b[39m\u001b[38;5;124m\"\u001b[39m\n\u001b[0;32m    461\u001b[0m         )\n\u001b[1;32m--> 462\u001b[0m         \u001b[38;5;28;01mraise\u001b[39;00m \u001b[38;5;167;01mTypeError\u001b[39;00m(msg)\n\u001b[0;32m    464\u001b[0m     ndims\u001b[38;5;241m.\u001b[39madd(obj\u001b[38;5;241m.\u001b[39mndim)\n\u001b[0;32m    466\u001b[0m \u001b[38;5;66;03m# get the sample\u001b[39;00m\n\u001b[0;32m    467\u001b[0m \u001b[38;5;66;03m# want the highest ndim that we have, and must be non-empty\u001b[39;00m\n\u001b[0;32m    468\u001b[0m \u001b[38;5;66;03m# unless all objs are empty\u001b[39;00m\n",
      "\u001b[1;31mTypeError\u001b[0m: cannot concatenate object of type '<class 'dask.delayed.Delayed'>'; only Series and DataFrame objs are valid"
     ]
    }
   ],
   "source": [
    "%%time\n",
    "all_data.compute()"
   ]
  },
  {
   "cell_type": "code",
   "execution_count": 160,
   "metadata": {},
   "outputs": [],
   "source": [
    "import dask\n",
    "import time\n",
    "\n",
    "from joblib import delayed\n",
    "\n",
    "def myadd(a,b):\n",
    "    time.sleep(1)\n",
    "    a = increment(a)\n",
    "    b = increment(b)\n",
    "    return a+b\n",
    "@delayed\n",
    "def increment(a):\n",
    "    time.sleep(1)\n",
    "    return a+1\n",
    "\n"
   ]
  },
  {
   "cell_type": "code",
   "execution_count": 161,
   "metadata": {},
   "outputs": [
    {
     "name": "stdout",
     "output_type": "stream",
     "text": [
      "CPU times: total: 0 ns\n",
      "Wall time: 5.99 ms\n"
     ]
    }
   ],
   "source": [
    "%%time\n",
    "@dask.delayed\n",
    "def add(a,b):\n",
    "    return a+b\n",
    "\n",
    "a=1\n",
    "b= np.arange(10)\n",
    "\n",
    "c = [dask.delayed(add)(a,b_i) for b_i in b]"
   ]
  },
  {
   "cell_type": "code",
   "execution_count": 162,
   "metadata": {},
   "outputs": [
    {
     "name": "stdout",
     "output_type": "stream",
     "text": [
      "[Delayed('add-276e2893-b43d-42f3-9fc2-8cfbc098e49c'), Delayed('add-12390ad5-9dc5-4350-82bf-7d99ae404011'), Delayed('add-10f2c0ef-a9fb-47cc-a965-66db37ea6d73'), Delayed('add-eb9ad766-8455-4865-8c7b-f11e44063645'), Delayed('add-bf37e8e6-ae5f-42b4-a012-3b8c2cad7b6a'), Delayed('add-fe857cff-648c-4afb-b19f-390818ad2869'), Delayed('add-c483485d-2c9a-44df-8405-534fd586b786'), Delayed('add-0f856443-6100-410e-b1aa-ea16ac4a65d5'), Delayed('add-cc12e62d-8cf7-4ac7-bf26-ba9dda41b75a'), Delayed('add-89f9deed-97c2-44d8-ad9d-ef55d9449f67')]\n"
     ]
    },
    {
     "ename": "AttributeError",
     "evalue": "'list' object has no attribute 'visualize'",
     "output_type": "error",
     "traceback": [
      "\u001b[1;31m---------------------------------------------------------------------------\u001b[0m",
      "\u001b[1;31mAttributeError\u001b[0m                            Traceback (most recent call last)",
      "Cell \u001b[1;32mIn[162], line 3\u001b[0m\n\u001b[0;32m      1\u001b[0m \u001b[38;5;66;03m#compute all the promises\u001b[39;00m\n\u001b[0;32m      2\u001b[0m \u001b[38;5;28mprint\u001b[39m(c)\n\u001b[1;32m----> 3\u001b[0m \u001b[43mc\u001b[49m\u001b[38;5;241;43m.\u001b[39;49m\u001b[43mvisualize\u001b[49m()\n\u001b[0;32m      4\u001b[0m results \u001b[38;5;241m=\u001b[39m dask\u001b[38;5;241m.\u001b[39mcompute(\u001b[38;5;241m*\u001b[39mc)\n\u001b[0;32m      6\u001b[0m \u001b[38;5;28mprint\u001b[39m(results)\n",
      "\u001b[1;31mAttributeError\u001b[0m: 'list' object has no attribute 'visualize'"
     ]
    }
   ],
   "source": [
    "#compute all the promises\n",
    "print(c)\n",
    "c.visualize()\n",
    "results = dask.compute(*c)\n",
    "\n",
    "print(results)"
   ]
  },
  {
   "cell_type": "code",
   "execution_count": 114,
   "metadata": {},
   "outputs": [
    {
     "ename": "AttributeError",
     "evalue": "'list' object has no attribute 'compute'",
     "output_type": "error",
     "traceback": [
      "\u001b[1;31m---------------------------------------------------------------------------\u001b[0m",
      "\u001b[1;31mAttributeError\u001b[0m                            Traceback (most recent call last)",
      "File \u001b[1;32m<timed eval>:1\u001b[0m\n",
      "\u001b[1;31mAttributeError\u001b[0m: 'list' object has no attribute 'compute'"
     ]
    }
   ],
   "source": [
    "%%time\n",
    "c.compute()"
   ]
  },
  {
   "cell_type": "code",
   "execution_count": 13,
   "metadata": {},
   "outputs": [
    {
     "data": {
      "image/svg+xml": [
       "<svg xmlns=\"http://www.w3.org/2000/svg\" xmlns:xlink=\"http://www.w3.org/1999/xlink\" width=\"96pt\" height=\"168pt\" viewBox=\"0.00 0.00 96.37 168.37\">\n",
       "<g id=\"graph0\" class=\"graph\" transform=\"scale(1 1) rotate(0) translate(4 164.37)\">\n",
       "<polygon fill=\"white\" stroke=\"none\" points=\"-4,4 -4,-164.37 92.37,-164.37 92.37,4 -4,4\"/>\n",
       "<!-- 178168271501637384 -->\n",
       "<g id=\"node1\" class=\"node\">\n",
       "<title>178168271501637384</title>\n",
       "<ellipse fill=\"none\" stroke=\"black\" cx=\"44.19\" cy=\"-44.19\" rx=\"44.19\" ry=\"44.19\"/>\n",
       "<text text-anchor=\"middle\" x=\"44.19\" y=\"-39.14\" font-family=\"Helvetica,sans-Serif\" font-size=\"14.00\">load_all</text>\n",
       "</g>\n",
       "<!-- &#45;4682109708195856351 -->\n",
       "<g id=\"node2\" class=\"node\">\n",
       "<title>-4682109708195856351</title>\n",
       "<polygon fill=\"none\" stroke=\"black\" points=\"71.19,-160.37 17.19,-160.37 17.19,-124.37 71.19,-124.37 71.19,-160.37\"/>\n",
       "</g>\n",
       "<!-- 178168271501637384&#45;&gt;&#45;4682109708195856351 -->\n",
       "<g id=\"edge1\" class=\"edge\">\n",
       "<title>178168271501637384-&gt;-4682109708195856351</title>\n",
       "<path fill=\"none\" stroke=\"black\" d=\"M44.19,-88.78C44.19,-96.9 44.19,-105.19 44.19,-112.72\"/>\n",
       "<polygon fill=\"black\" stroke=\"black\" points=\"40.69,-112.63 44.19,-122.63 47.69,-112.63 40.69,-112.63\"/>\n",
       "</g>\n",
       "</g>\n",
       "</svg>"
      ],
      "text/plain": [
       "<IPython.core.display.SVG object>"
      ]
     },
     "execution_count": 13,
     "metadata": {},
     "output_type": "execute_result"
    }
   ],
   "source": [
    "c.visualize(filename = 'test.svg')"
   ]
  },
  {
   "cell_type": "code",
   "execution_count": 55,
   "metadata": {},
   "outputs": [
    {
     "name": "stdout",
     "output_type": "stream",
     "text": [
      "[None, None, None, None, None, None, None, None, None, None, None, None, None, None, None, None, None, None, None, None, None, None, None, None, None, None, None, None]\n"
     ]
    }
   ],
   "source": []
  },
  {
   "cell_type": "markdown",
   "metadata": {},
   "source": [
    "Can you read me\n"
   ]
  }
 ],
 "metadata": {
  "kernelspec": {
   "display_name": "Python 3",
   "language": "python",
   "name": "python3"
  },
  "language_info": {
   "codemirror_mode": {
    "name": "ipython",
    "version": 3
   },
   "file_extension": ".py",
   "mimetype": "text/x-python",
   "name": "python",
   "nbconvert_exporter": "python",
   "pygments_lexer": "ipython3",
   "version": "3.10.11"
  }
 },
 "nbformat": 4,
 "nbformat_minor": 2
}
